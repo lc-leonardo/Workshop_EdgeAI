{
 "cells": [
  {
   "cell_type": "markdown",
   "id": "54eace91",
   "metadata": {},
   "source": [
    "# SmoothQuant Implementation: Accurate and Efficient Post-Training Quantization\n",
    "\n",
    "## Introduction\n",
    "\n",
    "SmoothQuant is a post-training quantization technique that addresses the challenge of quantizing large language models (LLMs) by smoothing the activation outliers. This workshop implements the SmoothQuant method as described in the paper \"SmoothQuant: Accurate and Efficient Post-training Quantization for Large Language Models\" (Xiao et al., 2022).\n",
    "\n",
    "### Key Concepts:\n",
    "- **Problem**: Activation outliers in transformer models make quantization difficult\n",
    "- **Solution**: Migrate difficulty from activations to weights through mathematical equivalence\n",
    "- **Method**: Apply per-channel scaling to balance activation and weight quantization difficulties\n",
    "\n",
    "### Workshop Objectives:\n",
    "1. Load and analyze OPT-135M model weights and activations\n",
    "2. Visualize the distribution of weights and activations before SmoothQuant\n",
    "3. Implement the SmoothQuant algorithm\n",
    "4. Visualize the transformed distributions\n",
    "5. Evaluate model performance before and after quantization"
   ]
  },
  {
   "cell_type": "markdown",
   "id": "59e6f552",
   "metadata": {},
   "source": [
    "## 1. Environment Setup and Dependencies\n",
    "\n",
    "First, we install and import the necessary libraries for our implementation."
   ]
  },
  {
   "cell_type": "code",
   "execution_count": 1,
   "id": "233009ed",
   "metadata": {},
   "outputs": [
    {
     "name": "stdout",
     "output_type": "stream",
     "text": [
      "Requirement already satisfied: torch in /home/exouser/Documents/Workshop/.venv/lib/python3.12/site-packages (2.7.1)\n",
      "Requirement already satisfied: transformers in /home/exouser/Documents/Workshop/.venv/lib/python3.12/site-packages (4.53.2)\n",
      "Requirement already satisfied: datasets in /home/exouser/Documents/Workshop/.venv/lib/python3.12/site-packages (4.0.0)\n",
      "Requirement already satisfied: matplotlib in /home/exouser/Documents/Workshop/.venv/lib/python3.12/site-packages (3.10.3)\n",
      "Requirement already satisfied: plotly in /home/exouser/Documents/Workshop/.venv/lib/python3.12/site-packages (6.2.0)\n",
      "Requirement already satisfied: numpy in /home/exouser/Documents/Workshop/.venv/lib/python3.12/site-packages (2.3.1)\n",
      "Requirement already satisfied: scipy in /home/exouser/Documents/Workshop/.venv/lib/python3.12/site-packages (1.16.0)\n",
      "Requirement already satisfied: tqdm in /home/exouser/Documents/Workshop/.venv/lib/python3.12/site-packages (4.67.1)\n",
      "Requirement already satisfied: filelock in /home/exouser/Documents/Workshop/.venv/lib/python3.12/site-packages (from torch) (3.18.0)\n",
      "Requirement already satisfied: typing-extensions>=4.10.0 in /home/exouser/Documents/Workshop/.venv/lib/python3.12/site-packages (from torch) (4.14.1)\n",
      "Requirement already satisfied: setuptools in /home/exouser/Documents/Workshop/.venv/lib/python3.12/site-packages (from torch) (80.9.0)\n",
      "Requirement already satisfied: sympy>=1.13.3 in /home/exouser/Documents/Workshop/.venv/lib/python3.12/site-packages (from torch) (1.14.0)\n",
      "Requirement already satisfied: networkx in /home/exouser/Documents/Workshop/.venv/lib/python3.12/site-packages (from torch) (3.5)\n",
      "Requirement already satisfied: jinja2 in /home/exouser/Documents/Workshop/.venv/lib/python3.12/site-packages (from torch) (3.1.6)\n",
      "Requirement already satisfied: fsspec in /home/exouser/Documents/Workshop/.venv/lib/python3.12/site-packages (from torch) (2025.3.0)\n",
      "Requirement already satisfied: nvidia-cuda-nvrtc-cu12==12.6.77 in /home/exouser/Documents/Workshop/.venv/lib/python3.12/site-packages (from torch) (12.6.77)\n",
      "Requirement already satisfied: nvidia-cuda-runtime-cu12==12.6.77 in /home/exouser/Documents/Workshop/.venv/lib/python3.12/site-packages (from torch) (12.6.77)\n",
      "Requirement already satisfied: nvidia-cuda-cupti-cu12==12.6.80 in /home/exouser/Documents/Workshop/.venv/lib/python3.12/site-packages (from torch) (12.6.80)\n",
      "Requirement already satisfied: nvidia-cudnn-cu12==9.5.1.17 in /home/exouser/Documents/Workshop/.venv/lib/python3.12/site-packages (from torch) (9.5.1.17)\n",
      "Requirement already satisfied: nvidia-cublas-cu12==12.6.4.1 in /home/exouser/Documents/Workshop/.venv/lib/python3.12/site-packages (from torch) (12.6.4.1)\n",
      "Requirement already satisfied: nvidia-cufft-cu12==11.3.0.4 in /home/exouser/Documents/Workshop/.venv/lib/python3.12/site-packages (from torch) (11.3.0.4)\n",
      "Requirement already satisfied: nvidia-curand-cu12==10.3.7.77 in /home/exouser/Documents/Workshop/.venv/lib/python3.12/site-packages (from torch) (10.3.7.77)\n",
      "Requirement already satisfied: nvidia-cusolver-cu12==11.7.1.2 in /home/exouser/Documents/Workshop/.venv/lib/python3.12/site-packages (from torch) (11.7.1.2)\n",
      "Requirement already satisfied: nvidia-cusparse-cu12==12.5.4.2 in /home/exouser/Documents/Workshop/.venv/lib/python3.12/site-packages (from torch) (12.5.4.2)\n",
      "Requirement already satisfied: nvidia-cusparselt-cu12==0.6.3 in /home/exouser/Documents/Workshop/.venv/lib/python3.12/site-packages (from torch) (0.6.3)\n",
      "Requirement already satisfied: nvidia-nccl-cu12==2.26.2 in /home/exouser/Documents/Workshop/.venv/lib/python3.12/site-packages (from torch) (2.26.2)\n",
      "Requirement already satisfied: nvidia-nvtx-cu12==12.6.77 in /home/exouser/Documents/Workshop/.venv/lib/python3.12/site-packages (from torch) (12.6.77)\n",
      "Requirement already satisfied: nvidia-nvjitlink-cu12==12.6.85 in /home/exouser/Documents/Workshop/.venv/lib/python3.12/site-packages (from torch) (12.6.85)\n",
      "Requirement already satisfied: nvidia-cufile-cu12==1.11.1.6 in /home/exouser/Documents/Workshop/.venv/lib/python3.12/site-packages (from torch) (1.11.1.6)\n",
      "Requirement already satisfied: triton==3.3.1 in /home/exouser/Documents/Workshop/.venv/lib/python3.12/site-packages (from torch) (3.3.1)\n",
      "Requirement already satisfied: huggingface-hub<1.0,>=0.30.0 in /home/exouser/Documents/Workshop/.venv/lib/python3.12/site-packages (from transformers) (0.33.4)\n",
      "Requirement already satisfied: packaging>=20.0 in /home/exouser/Documents/Workshop/.venv/lib/python3.12/site-packages (from transformers) (25.0)\n",
      "Requirement already satisfied: pyyaml>=5.1 in /home/exouser/Documents/Workshop/.venv/lib/python3.12/site-packages (from transformers) (6.0.2)\n",
      "Requirement already satisfied: regex!=2019.12.17 in /home/exouser/Documents/Workshop/.venv/lib/python3.12/site-packages (from transformers) (2024.11.6)\n",
      "Requirement already satisfied: requests in /home/exouser/Documents/Workshop/.venv/lib/python3.12/site-packages (from transformers) (2.32.4)\n",
      "Requirement already satisfied: tokenizers<0.22,>=0.21 in /home/exouser/Documents/Workshop/.venv/lib/python3.12/site-packages (from transformers) (0.21.2)\n",
      "Requirement already satisfied: safetensors>=0.4.3 in /home/exouser/Documents/Workshop/.venv/lib/python3.12/site-packages (from transformers) (0.5.3)\n",
      "Requirement already satisfied: nvidia-cusparselt-cu12==0.6.3 in /home/exouser/Documents/Workshop/.venv/lib/python3.12/site-packages (from torch) (0.6.3)\n",
      "Requirement already satisfied: nvidia-nccl-cu12==2.26.2 in /home/exouser/Documents/Workshop/.venv/lib/python3.12/site-packages (from torch) (2.26.2)\n",
      "Requirement already satisfied: nvidia-nvtx-cu12==12.6.77 in /home/exouser/Documents/Workshop/.venv/lib/python3.12/site-packages (from torch) (12.6.77)\n",
      "Requirement already satisfied: nvidia-nvjitlink-cu12==12.6.85 in /home/exouser/Documents/Workshop/.venv/lib/python3.12/site-packages (from torch) (12.6.85)\n",
      "Requirement already satisfied: nvidia-cufile-cu12==1.11.1.6 in /home/exouser/Documents/Workshop/.venv/lib/python3.12/site-packages (from torch) (1.11.1.6)\n",
      "Requirement already satisfied: triton==3.3.1 in /home/exouser/Documents/Workshop/.venv/lib/python3.12/site-packages (from torch) (3.3.1)\n",
      "Requirement already satisfied: huggingface-hub<1.0,>=0.30.0 in /home/exouser/Documents/Workshop/.venv/lib/python3.12/site-packages (from transformers) (0.33.4)\n",
      "Requirement already satisfied: packaging>=20.0 in /home/exouser/Documents/Workshop/.venv/lib/python3.12/site-packages (from transformers) (25.0)\n",
      "Requirement already satisfied: pyyaml>=5.1 in /home/exouser/Documents/Workshop/.venv/lib/python3.12/site-packages (from transformers) (6.0.2)\n",
      "Requirement already satisfied: regex!=2019.12.17 in /home/exouser/Documents/Workshop/.venv/lib/python3.12/site-packages (from transformers) (2024.11.6)\n",
      "Requirement already satisfied: requests in /home/exouser/Documents/Workshop/.venv/lib/python3.12/site-packages (from transformers) (2.32.4)\n",
      "Requirement already satisfied: tokenizers<0.22,>=0.21 in /home/exouser/Documents/Workshop/.venv/lib/python3.12/site-packages (from transformers) (0.21.2)\n",
      "Requirement already satisfied: safetensors>=0.4.3 in /home/exouser/Documents/Workshop/.venv/lib/python3.12/site-packages (from transformers) (0.5.3)\n",
      "Requirement already satisfied: hf-xet<2.0.0,>=1.1.2 in /home/exouser/Documents/Workshop/.venv/lib/python3.12/site-packages (from huggingface-hub<1.0,>=0.30.0->transformers) (1.1.5)\n",
      "Requirement already satisfied: pyarrow>=15.0.0 in /home/exouser/Documents/Workshop/.venv/lib/python3.12/site-packages (from datasets) (21.0.0)\n",
      "Requirement already satisfied: dill<0.3.9,>=0.3.0 in /home/exouser/Documents/Workshop/.venv/lib/python3.12/site-packages (from datasets) (0.3.8)\n",
      "Requirement already satisfied: pandas in /home/exouser/Documents/Workshop/.venv/lib/python3.12/site-packages (from datasets) (2.3.1)\n",
      "Requirement already satisfied: xxhash in /home/exouser/Documents/Workshop/.venv/lib/python3.12/site-packages (from datasets) (3.5.0)\n",
      "Requirement already satisfied: multiprocess<0.70.17 in /home/exouser/Documents/Workshop/.venv/lib/python3.12/site-packages (from datasets) (0.70.16)\n",
      "Requirement already satisfied: hf-xet<2.0.0,>=1.1.2 in /home/exouser/Documents/Workshop/.venv/lib/python3.12/site-packages (from huggingface-hub<1.0,>=0.30.0->transformers) (1.1.5)\n",
      "Requirement already satisfied: pyarrow>=15.0.0 in /home/exouser/Documents/Workshop/.venv/lib/python3.12/site-packages (from datasets) (21.0.0)\n",
      "Requirement already satisfied: dill<0.3.9,>=0.3.0 in /home/exouser/Documents/Workshop/.venv/lib/python3.12/site-packages (from datasets) (0.3.8)\n",
      "Requirement already satisfied: pandas in /home/exouser/Documents/Workshop/.venv/lib/python3.12/site-packages (from datasets) (2.3.1)\n",
      "Requirement already satisfied: xxhash in /home/exouser/Documents/Workshop/.venv/lib/python3.12/site-packages (from datasets) (3.5.0)\n",
      "Requirement already satisfied: multiprocess<0.70.17 in /home/exouser/Documents/Workshop/.venv/lib/python3.12/site-packages (from datasets) (0.70.16)\n",
      "Requirement already satisfied: aiohttp!=4.0.0a0,!=4.0.0a1 in /home/exouser/Documents/Workshop/.venv/lib/python3.12/site-packages (from fsspec[http]<=2025.3.0,>=2023.1.0->datasets) (3.12.14)\n",
      "Requirement already satisfied: contourpy>=1.0.1 in /home/exouser/Documents/Workshop/.venv/lib/python3.12/site-packages (from matplotlib) (1.3.2)\n",
      "Requirement already satisfied: cycler>=0.10 in /home/exouser/Documents/Workshop/.venv/lib/python3.12/site-packages (from matplotlib) (0.12.1)\n",
      "Requirement already satisfied: fonttools>=4.22.0 in /home/exouser/Documents/Workshop/.venv/lib/python3.12/site-packages (from matplotlib) (4.58.5)\n",
      "Requirement already satisfied: kiwisolver>=1.3.1 in /home/exouser/Documents/Workshop/.venv/lib/python3.12/site-packages (from matplotlib) (1.4.8)\n",
      "Requirement already satisfied: pillow>=8 in /home/exouser/Documents/Workshop/.venv/lib/python3.12/site-packages (from matplotlib) (11.3.0)\n",
      "Requirement already satisfied: pyparsing>=2.3.1 in /home/exouser/Documents/Workshop/.venv/lib/python3.12/site-packages (from matplotlib) (3.2.3)\n",
      "Requirement already satisfied: python-dateutil>=2.7 in /home/exouser/Documents/Workshop/.venv/lib/python3.12/site-packages (from matplotlib) (2.9.0.post0)\n",
      "Requirement already satisfied: narwhals>=1.15.1 in /home/exouser/Documents/Workshop/.venv/lib/python3.12/site-packages (from plotly) (1.48.0)\n",
      "Requirement already satisfied: aiohttp!=4.0.0a0,!=4.0.0a1 in /home/exouser/Documents/Workshop/.venv/lib/python3.12/site-packages (from fsspec[http]<=2025.3.0,>=2023.1.0->datasets) (3.12.14)\n",
      "Requirement already satisfied: contourpy>=1.0.1 in /home/exouser/Documents/Workshop/.venv/lib/python3.12/site-packages (from matplotlib) (1.3.2)\n",
      "Requirement already satisfied: cycler>=0.10 in /home/exouser/Documents/Workshop/.venv/lib/python3.12/site-packages (from matplotlib) (0.12.1)\n",
      "Requirement already satisfied: fonttools>=4.22.0 in /home/exouser/Documents/Workshop/.venv/lib/python3.12/site-packages (from matplotlib) (4.58.5)\n",
      "Requirement already satisfied: kiwisolver>=1.3.1 in /home/exouser/Documents/Workshop/.venv/lib/python3.12/site-packages (from matplotlib) (1.4.8)\n",
      "Requirement already satisfied: pillow>=8 in /home/exouser/Documents/Workshop/.venv/lib/python3.12/site-packages (from matplotlib) (11.3.0)\n",
      "Requirement already satisfied: pyparsing>=2.3.1 in /home/exouser/Documents/Workshop/.venv/lib/python3.12/site-packages (from matplotlib) (3.2.3)\n",
      "Requirement already satisfied: python-dateutil>=2.7 in /home/exouser/Documents/Workshop/.venv/lib/python3.12/site-packages (from matplotlib) (2.9.0.post0)\n",
      "Requirement already satisfied: narwhals>=1.15.1 in /home/exouser/Documents/Workshop/.venv/lib/python3.12/site-packages (from plotly) (1.48.0)\n",
      "Requirement already satisfied: aiohappyeyeballs>=2.5.0 in /home/exouser/Documents/Workshop/.venv/lib/python3.12/site-packages (from aiohttp!=4.0.0a0,!=4.0.0a1->fsspec[http]<=2025.3.0,>=2023.1.0->datasets) (2.6.1)\n",
      "Requirement already satisfied: aiosignal>=1.4.0 in /home/exouser/Documents/Workshop/.venv/lib/python3.12/site-packages (from aiohttp!=4.0.0a0,!=4.0.0a1->fsspec[http]<=2025.3.0,>=2023.1.0->datasets) (1.4.0)\n",
      "Requirement already satisfied: attrs>=17.3.0 in /home/exouser/Documents/Workshop/.venv/lib/python3.12/site-packages (from aiohttp!=4.0.0a0,!=4.0.0a1->fsspec[http]<=2025.3.0,>=2023.1.0->datasets) (25.3.0)\n",
      "Requirement already satisfied: frozenlist>=1.1.1 in /home/exouser/Documents/Workshop/.venv/lib/python3.12/site-packages (from aiohttp!=4.0.0a0,!=4.0.0a1->fsspec[http]<=2025.3.0,>=2023.1.0->datasets) (1.7.0)\n",
      "Requirement already satisfied: multidict<7.0,>=4.5 in /home/exouser/Documents/Workshop/.venv/lib/python3.12/site-packages (from aiohttp!=4.0.0a0,!=4.0.0a1->fsspec[http]<=2025.3.0,>=2023.1.0->datasets) (6.6.3)\n",
      "Requirement already satisfied: propcache>=0.2.0 in /home/exouser/Documents/Workshop/.venv/lib/python3.12/site-packages (from aiohttp!=4.0.0a0,!=4.0.0a1->fsspec[http]<=2025.3.0,>=2023.1.0->datasets) (0.3.2)\n",
      "Requirement already satisfied: yarl<2.0,>=1.17.0 in /home/exouser/Documents/Workshop/.venv/lib/python3.12/site-packages (from aiohttp!=4.0.0a0,!=4.0.0a1->fsspec[http]<=2025.3.0,>=2023.1.0->datasets) (1.20.1)\n",
      "Requirement already satisfied: idna>=2.0 in /home/exouser/Documents/Workshop/.venv/lib/python3.12/site-packages (from yarl<2.0,>=1.17.0->aiohttp!=4.0.0a0,!=4.0.0a1->fsspec[http]<=2025.3.0,>=2023.1.0->datasets) (3.10)\n",
      "Requirement already satisfied: aiohappyeyeballs>=2.5.0 in /home/exouser/Documents/Workshop/.venv/lib/python3.12/site-packages (from aiohttp!=4.0.0a0,!=4.0.0a1->fsspec[http]<=2025.3.0,>=2023.1.0->datasets) (2.6.1)\n",
      "Requirement already satisfied: aiosignal>=1.4.0 in /home/exouser/Documents/Workshop/.venv/lib/python3.12/site-packages (from aiohttp!=4.0.0a0,!=4.0.0a1->fsspec[http]<=2025.3.0,>=2023.1.0->datasets) (1.4.0)\n",
      "Requirement already satisfied: attrs>=17.3.0 in /home/exouser/Documents/Workshop/.venv/lib/python3.12/site-packages (from aiohttp!=4.0.0a0,!=4.0.0a1->fsspec[http]<=2025.3.0,>=2023.1.0->datasets) (25.3.0)\n",
      "Requirement already satisfied: frozenlist>=1.1.1 in /home/exouser/Documents/Workshop/.venv/lib/python3.12/site-packages (from aiohttp!=4.0.0a0,!=4.0.0a1->fsspec[http]<=2025.3.0,>=2023.1.0->datasets) (1.7.0)\n",
      "Requirement already satisfied: multidict<7.0,>=4.5 in /home/exouser/Documents/Workshop/.venv/lib/python3.12/site-packages (from aiohttp!=4.0.0a0,!=4.0.0a1->fsspec[http]<=2025.3.0,>=2023.1.0->datasets) (6.6.3)\n",
      "Requirement already satisfied: propcache>=0.2.0 in /home/exouser/Documents/Workshop/.venv/lib/python3.12/site-packages (from aiohttp!=4.0.0a0,!=4.0.0a1->fsspec[http]<=2025.3.0,>=2023.1.0->datasets) (0.3.2)\n",
      "Requirement already satisfied: yarl<2.0,>=1.17.0 in /home/exouser/Documents/Workshop/.venv/lib/python3.12/site-packages (from aiohttp!=4.0.0a0,!=4.0.0a1->fsspec[http]<=2025.3.0,>=2023.1.0->datasets) (1.20.1)\n",
      "Requirement already satisfied: idna>=2.0 in /home/exouser/Documents/Workshop/.venv/lib/python3.12/site-packages (from yarl<2.0,>=1.17.0->aiohttp!=4.0.0a0,!=4.0.0a1->fsspec[http]<=2025.3.0,>=2023.1.0->datasets) (3.10)\n",
      "Requirement already satisfied: six>=1.5 in /home/exouser/Documents/Workshop/.venv/lib/python3.12/site-packages (from python-dateutil>=2.7->matplotlib) (1.17.0)\n",
      "Requirement already satisfied: charset_normalizer<4,>=2 in /home/exouser/Documents/Workshop/.venv/lib/python3.12/site-packages (from requests->transformers) (3.4.2)\n",
      "Requirement already satisfied: urllib3<3,>=1.21.1 in /home/exouser/Documents/Workshop/.venv/lib/python3.12/site-packages (from requests->transformers) (2.5.0)\n",
      "Requirement already satisfied: certifi>=2017.4.17 in /home/exouser/Documents/Workshop/.venv/lib/python3.12/site-packages (from requests->transformers) (2025.7.14)\n",
      "Requirement already satisfied: mpmath<1.4,>=1.1.0 in /home/exouser/Documents/Workshop/.venv/lib/python3.12/site-packages (from sympy>=1.13.3->torch) (1.3.0)\n",
      "Requirement already satisfied: six>=1.5 in /home/exouser/Documents/Workshop/.venv/lib/python3.12/site-packages (from python-dateutil>=2.7->matplotlib) (1.17.0)\n",
      "Requirement already satisfied: charset_normalizer<4,>=2 in /home/exouser/Documents/Workshop/.venv/lib/python3.12/site-packages (from requests->transformers) (3.4.2)\n",
      "Requirement already satisfied: urllib3<3,>=1.21.1 in /home/exouser/Documents/Workshop/.venv/lib/python3.12/site-packages (from requests->transformers) (2.5.0)\n",
      "Requirement already satisfied: certifi>=2017.4.17 in /home/exouser/Documents/Workshop/.venv/lib/python3.12/site-packages (from requests->transformers) (2025.7.14)\n",
      "Requirement already satisfied: mpmath<1.4,>=1.1.0 in /home/exouser/Documents/Workshop/.venv/lib/python3.12/site-packages (from sympy>=1.13.3->torch) (1.3.0)\n",
      "Requirement already satisfied: MarkupSafe>=2.0 in /home/exouser/Documents/Workshop/.venv/lib/python3.12/site-packages (from jinja2->torch) (3.0.2)\n",
      "Requirement already satisfied: pytz>=2020.1 in /home/exouser/Documents/Workshop/.venv/lib/python3.12/site-packages (from pandas->datasets) (2025.2)\n",
      "Requirement already satisfied: tzdata>=2022.7 in /home/exouser/Documents/Workshop/.venv/lib/python3.12/site-packages (from pandas->datasets) (2025.2)\n",
      "Requirement already satisfied: MarkupSafe>=2.0 in /home/exouser/Documents/Workshop/.venv/lib/python3.12/site-packages (from jinja2->torch) (3.0.2)\n",
      "Requirement already satisfied: pytz>=2020.1 in /home/exouser/Documents/Workshop/.venv/lib/python3.12/site-packages (from pandas->datasets) (2025.2)\n",
      "Requirement already satisfied: tzdata>=2022.7 in /home/exouser/Documents/Workshop/.venv/lib/python3.12/site-packages (from pandas->datasets) (2025.2)\n"
     ]
    }
   ],
   "source": [
    "# Install required packages\n",
    "!pip install torch transformers datasets matplotlib plotly numpy scipy tqdm"
   ]
  },
  {
   "cell_type": "code",
   "execution_count": 2,
   "id": "90335a86",
   "metadata": {},
   "outputs": [
    {
     "name": "stdout",
     "output_type": "stream",
     "text": [
      "Using device: cuda\n"
     ]
    }
   ],
   "source": [
    "import torch\n",
    "import torch.nn as nn\n",
    "import numpy as np\n",
    "import matplotlib.pyplot as plt\n",
    "import plotly.graph_objects as go\n",
    "import plotly.express as px\n",
    "from plotly.subplots import make_subplots\n",
    "from transformers import OPTForCausalLM, GPT2Tokenizer, AutoTokenizer\n",
    "from datasets import load_dataset\n",
    "from tqdm import tqdm\n",
    "import warnings\n",
    "warnings.filterwarnings('ignore')\n",
    "\n",
    "# Set device\n",
    "device = torch.device(\"cuda\" if torch.cuda.is_available() else \"cpu\")\n",
    "print(f\"Using device: {device}\")"
   ]
  },
  {
   "cell_type": "markdown",
   "id": "d87aca91",
   "metadata": {},
   "source": [
    "## 2. Model and Data Loading\n",
    "\n",
    "We load the OPT-135M model and prepare calibration data for analyzing activation patterns."
   ]
  },
  {
   "cell_type": "code",
   "execution_count": 3,
   "id": "c0d22657",
   "metadata": {},
   "outputs": [
    {
     "name": "stdout",
     "output_type": "stream",
     "text": [
      "Loading model: facebook/opt-125m\n",
      "Model loaded successfully. Total parameters: 125,239,296\n",
      "Model loaded successfully. Total parameters: 125,239,296\n"
     ]
    }
   ],
   "source": [
    "# Load OPT-135M model and tokenizer\n",
    "model_name = \"facebook/opt-125m\"  # Using 125M as it's more readily available\n",
    "print(f\"Loading model: {model_name}\")\n",
    "\n",
    "model = OPTForCausalLM.from_pretrained(model_name, torch_dtype=torch.float32)\n",
    "tokenizer = AutoTokenizer.from_pretrained(model_name)\n",
    "tokenizer.pad_token = tokenizer.eos_token\n",
    "\n",
    "model.to(device)\n",
    "model.eval()\n",
    "\n",
    "print(f\"Model loaded successfully. Total parameters: {sum(p.numel() for p in model.parameters()):,}\")"
   ]
  },
  {
   "cell_type": "code",
   "execution_count": 4,
   "id": "12e92451",
   "metadata": {},
   "outputs": [
    {
     "name": "stdout",
     "output_type": "stream",
     "text": [
      "Calibration data shape: torch.Size([22, 256])\n"
     ]
    }
   ],
   "source": [
    "# Prepare calibration dataset\n",
    "def prepare_calibration_data(tokenizer, num_samples=100, max_length=512):\n",
    "    \"\"\"Prepare calibration data from WikiText-2 dataset.\"\"\"\n",
    "    \n",
    "    # Load WikiText-2 dataset\n",
    "    dataset = load_dataset(\"wikitext\", \"wikitext-2-raw-v1\", split=\"train\")\n",
    "    \n",
    "    calibration_texts = []\n",
    "    for i, example in enumerate(dataset):\n",
    "        if i >= num_samples:\n",
    "            break\n",
    "        text = example['text'].strip()\n",
    "        if len(text) > 50:  # Filter out very short texts\n",
    "            calibration_texts.append(text)\n",
    "    \n",
    "    # Tokenize the texts\n",
    "    inputs = tokenizer(\n",
    "        calibration_texts[:num_samples],\n",
    "        padding=True,\n",
    "        truncation=True,\n",
    "        max_length=max_length,\n",
    "        return_tensors=\"pt\"\n",
    "    )\n",
    "    \n",
    "    return inputs\n",
    "\n",
    "# Prepare calibration data\n",
    "calibration_data = prepare_calibration_data(tokenizer, num_samples=50, max_length=256)\n",
    "print(f\"Calibration data shape: {calibration_data['input_ids'].shape}\")"
   ]
  },
  {
   "cell_type": "markdown",
   "id": "537c5ef8",
   "metadata": {},
   "source": [
    "## 3. Activation Collection and Analysis\n",
    "\n",
    "Before implementing SmoothQuant, we need to understand the distribution of activations in the model. We'll collect activations from linear layers during forward passes."
   ]
  },
  {
   "cell_type": "code",
   "execution_count": 5,
   "id": "bc78278d",
   "metadata": {},
   "outputs": [
    {
     "name": "stdout",
     "output_type": "stream",
     "text": [
      "Registered hook on: model.decoder.layers.0.self_attn.k_proj\n",
      "Registered hook on: model.decoder.layers.0.self_attn.v_proj\n",
      "Registered hook on: model.decoder.layers.0.self_attn.q_proj\n",
      "Registered hook on: model.decoder.layers.0.self_attn.out_proj\n",
      "Registered hook on: model.decoder.layers.0.fc1\n",
      "Registered hook on: model.decoder.layers.0.fc2\n",
      "Registered hook on: model.decoder.layers.1.self_attn.k_proj\n",
      "Registered hook on: model.decoder.layers.1.self_attn.v_proj\n",
      "Registered hook on: model.decoder.layers.1.self_attn.q_proj\n",
      "Registered hook on: model.decoder.layers.1.self_attn.out_proj\n",
      "Registered hook on: model.decoder.layers.1.fc1\n",
      "Registered hook on: model.decoder.layers.1.fc2\n",
      "Registered hook on: model.decoder.layers.2.self_attn.k_proj\n",
      "Registered hook on: model.decoder.layers.2.self_attn.v_proj\n",
      "Registered hook on: model.decoder.layers.2.self_attn.q_proj\n",
      "Registered hook on: model.decoder.layers.2.self_attn.out_proj\n",
      "Registered hook on: model.decoder.layers.2.fc1\n",
      "Registered hook on: model.decoder.layers.2.fc2\n",
      "Registered hook on: model.decoder.layers.3.self_attn.k_proj\n",
      "Registered hook on: model.decoder.layers.3.self_attn.v_proj\n",
      "Registered hook on: model.decoder.layers.3.self_attn.q_proj\n",
      "Registered hook on: model.decoder.layers.3.self_attn.out_proj\n",
      "Registered hook on: model.decoder.layers.3.fc1\n",
      "Registered hook on: model.decoder.layers.3.fc2\n",
      "Registered hook on: model.decoder.layers.4.self_attn.k_proj\n",
      "Registered hook on: model.decoder.layers.4.self_attn.v_proj\n",
      "Registered hook on: model.decoder.layers.4.self_attn.q_proj\n",
      "Registered hook on: model.decoder.layers.4.self_attn.out_proj\n",
      "Registered hook on: model.decoder.layers.4.fc1\n",
      "Registered hook on: model.decoder.layers.4.fc2\n",
      "Registered hook on: model.decoder.layers.5.self_attn.k_proj\n",
      "Registered hook on: model.decoder.layers.5.self_attn.v_proj\n",
      "Registered hook on: model.decoder.layers.5.self_attn.q_proj\n",
      "Registered hook on: model.decoder.layers.5.self_attn.out_proj\n",
      "Registered hook on: model.decoder.layers.5.fc1\n",
      "Registered hook on: model.decoder.layers.5.fc2\n",
      "Registered hook on: model.decoder.layers.6.self_attn.k_proj\n",
      "Registered hook on: model.decoder.layers.6.self_attn.v_proj\n",
      "Registered hook on: model.decoder.layers.6.self_attn.q_proj\n",
      "Registered hook on: model.decoder.layers.6.self_attn.out_proj\n",
      "Registered hook on: model.decoder.layers.6.fc1\n",
      "Registered hook on: model.decoder.layers.6.fc2\n",
      "Registered hook on: model.decoder.layers.7.self_attn.k_proj\n",
      "Registered hook on: model.decoder.layers.7.self_attn.v_proj\n",
      "Registered hook on: model.decoder.layers.7.self_attn.q_proj\n",
      "Registered hook on: model.decoder.layers.7.self_attn.out_proj\n",
      "Registered hook on: model.decoder.layers.7.fc1\n",
      "Registered hook on: model.decoder.layers.7.fc2\n",
      "Registered hook on: model.decoder.layers.8.self_attn.k_proj\n",
      "Registered hook on: model.decoder.layers.8.self_attn.v_proj\n",
      "Registered hook on: model.decoder.layers.8.self_attn.q_proj\n",
      "Registered hook on: model.decoder.layers.8.self_attn.out_proj\n",
      "Registered hook on: model.decoder.layers.8.fc1\n",
      "Registered hook on: model.decoder.layers.8.fc2\n",
      "Registered hook on: model.decoder.layers.9.self_attn.k_proj\n",
      "Registered hook on: model.decoder.layers.9.self_attn.v_proj\n",
      "Registered hook on: model.decoder.layers.9.self_attn.q_proj\n",
      "Registered hook on: model.decoder.layers.9.self_attn.out_proj\n",
      "Registered hook on: model.decoder.layers.9.fc1\n",
      "Registered hook on: model.decoder.layers.9.fc2\n",
      "Registered hook on: model.decoder.layers.10.self_attn.k_proj\n",
      "Registered hook on: model.decoder.layers.10.self_attn.v_proj\n",
      "Registered hook on: model.decoder.layers.10.self_attn.q_proj\n",
      "Registered hook on: model.decoder.layers.10.self_attn.out_proj\n",
      "Registered hook on: model.decoder.layers.10.fc1\n",
      "Registered hook on: model.decoder.layers.10.fc2\n",
      "Registered hook on: model.decoder.layers.11.self_attn.k_proj\n",
      "Registered hook on: model.decoder.layers.11.self_attn.v_proj\n",
      "Registered hook on: model.decoder.layers.11.self_attn.q_proj\n",
      "Registered hook on: model.decoder.layers.11.self_attn.out_proj\n",
      "Registered hook on: model.decoder.layers.11.fc1\n",
      "Registered hook on: model.decoder.layers.11.fc2\n"
     ]
    }
   ],
   "source": [
    "class ActivationCollector:\n",
    "    \"\"\"Collects activations from specified layers during forward pass.\"\"\"\n",
    "    \n",
    "    def __init__(self):\n",
    "        self.activations = {}\n",
    "        self.hooks = []\n",
    "    \n",
    "    def hook_fn(self, name):\n",
    "        def hook(module, input, output):\n",
    "            # Store input activations (not output)\n",
    "            if isinstance(input, tuple):\n",
    "                activation = input[0].detach().cpu()\n",
    "            else:\n",
    "                activation = input.detach().cpu()\n",
    "            \n",
    "            if name not in self.activations:\n",
    "                self.activations[name] = []\n",
    "            self.activations[name].append(activation)\n",
    "        return hook\n",
    "    \n",
    "    def register_hooks(self, model, target_layers):\n",
    "        \"\"\"Register hooks on target layers.\"\"\"\n",
    "        for name, module in model.named_modules():\n",
    "            if any(target in name for target in target_layers):\n",
    "                if isinstance(module, nn.Linear):\n",
    "                    hook = module.register_forward_hook(self.hook_fn(name))\n",
    "                    self.hooks.append(hook)\n",
    "                    print(f\"Registered hook on: {name}\")\n",
    "    \n",
    "    def remove_hooks(self):\n",
    "        \"\"\"Remove all registered hooks.\"\"\"\n",
    "        for hook in self.hooks:\n",
    "            hook.remove()\n",
    "        self.hooks = []\n",
    "    \n",
    "    def get_aggregated_activations(self):\n",
    "        \"\"\"Aggregate collected activations.\"\"\"\n",
    "        aggregated = {}\n",
    "        for name, acts in self.activations.items():\n",
    "            # Concatenate all collected activations\n",
    "            concatenated = torch.cat(acts, dim=0)\n",
    "            aggregated[name] = concatenated\n",
    "        return aggregated\n",
    "\n",
    "# Initialize activation collector\n",
    "collector = ActivationCollector()\n",
    "\n",
    "# Target specific layers for analysis (focus on attention and MLP layers)\n",
    "target_layers = ['q_proj', 'k_proj', 'v_proj', 'out_proj', 'fc1', 'fc2']\n",
    "collector.register_hooks(model, target_layers)"
   ]
  },
  {
   "cell_type": "code",
   "execution_count": 6,
   "id": "92243704",
   "metadata": {},
   "outputs": [
    {
     "name": "stdout",
     "output_type": "stream",
     "text": [
      "Collecting activations...\n"
     ]
    },
    {
     "name": "stderr",
     "output_type": "stream",
     "text": [
      "100%|██████████| 2/2 [00:01<00:00,  1.34it/s]\n",
      "\n"
     ]
    },
    {
     "name": "stdout",
     "output_type": "stream",
     "text": [
      "Collected activations from 72 layers\n",
      "  model.decoder.layers.0.self_attn.q_proj: torch.Size([16, 256, 768])\n",
      "  model.decoder.layers.0.self_attn.k_proj: torch.Size([16, 256, 768])\n",
      "  model.decoder.layers.0.self_attn.v_proj: torch.Size([16, 256, 768])\n",
      "  model.decoder.layers.0.self_attn.out_proj: torch.Size([16, 256, 768])\n",
      "  model.decoder.layers.0.fc1: torch.Size([4096, 768])\n",
      "  model.decoder.layers.0.fc2: torch.Size([4096, 3072])\n",
      "  model.decoder.layers.1.self_attn.q_proj: torch.Size([16, 256, 768])\n",
      "  model.decoder.layers.1.self_attn.k_proj: torch.Size([16, 256, 768])\n",
      "  model.decoder.layers.1.self_attn.v_proj: torch.Size([16, 256, 768])\n",
      "  model.decoder.layers.1.self_attn.out_proj: torch.Size([16, 256, 768])\n",
      "  model.decoder.layers.1.fc1: torch.Size([4096, 768])\n",
      "  model.decoder.layers.1.fc2: torch.Size([4096, 3072])\n",
      "  model.decoder.layers.2.self_attn.q_proj: torch.Size([16, 256, 768])\n",
      "  model.decoder.layers.2.self_attn.k_proj: torch.Size([16, 256, 768])\n",
      "  model.decoder.layers.2.self_attn.v_proj: torch.Size([16, 256, 768])\n",
      "  model.decoder.layers.2.self_attn.out_proj: torch.Size([16, 256, 768])\n",
      "  model.decoder.layers.2.fc1: torch.Size([4096, 768])\n",
      "  model.decoder.layers.2.fc2: torch.Size([4096, 3072])\n",
      "  model.decoder.layers.3.self_attn.q_proj: torch.Size([16, 256, 768])\n",
      "  model.decoder.layers.3.self_attn.k_proj: torch.Size([16, 256, 768])\n",
      "  model.decoder.layers.3.self_attn.v_proj: torch.Size([16, 256, 768])\n",
      "  model.decoder.layers.3.self_attn.out_proj: torch.Size([16, 256, 768])\n",
      "  model.decoder.layers.3.fc1: torch.Size([4096, 768])\n",
      "  model.decoder.layers.3.fc2: torch.Size([4096, 3072])\n",
      "  model.decoder.layers.4.self_attn.q_proj: torch.Size([16, 256, 768])\n",
      "  model.decoder.layers.4.self_attn.k_proj: torch.Size([16, 256, 768])\n",
      "  model.decoder.layers.4.self_attn.v_proj: torch.Size([16, 256, 768])\n",
      "  model.decoder.layers.4.self_attn.out_proj: torch.Size([16, 256, 768])\n",
      "  model.decoder.layers.4.fc1: torch.Size([4096, 768])\n",
      "  model.decoder.layers.4.fc2: torch.Size([4096, 3072])\n",
      "  model.decoder.layers.5.self_attn.q_proj: torch.Size([16, 256, 768])\n",
      "  model.decoder.layers.5.self_attn.k_proj: torch.Size([16, 256, 768])\n",
      "  model.decoder.layers.5.self_attn.v_proj: torch.Size([16, 256, 768])\n",
      "  model.decoder.layers.5.self_attn.out_proj: torch.Size([16, 256, 768])\n",
      "  model.decoder.layers.5.fc1: torch.Size([4096, 768])\n",
      "  model.decoder.layers.5.fc2: torch.Size([4096, 3072])\n",
      "  model.decoder.layers.6.self_attn.q_proj: torch.Size([16, 256, 768])\n",
      "  model.decoder.layers.6.self_attn.k_proj: torch.Size([16, 256, 768])\n",
      "  model.decoder.layers.6.self_attn.v_proj: torch.Size([16, 256, 768])\n",
      "  model.decoder.layers.6.self_attn.out_proj: torch.Size([16, 256, 768])\n",
      "  model.decoder.layers.6.fc1: torch.Size([4096, 768])\n",
      "  model.decoder.layers.6.fc2: torch.Size([4096, 3072])\n",
      "  model.decoder.layers.7.self_attn.q_proj: torch.Size([16, 256, 768])\n",
      "  model.decoder.layers.7.self_attn.k_proj: torch.Size([16, 256, 768])\n",
      "  model.decoder.layers.7.self_attn.v_proj: torch.Size([16, 256, 768])\n",
      "  model.decoder.layers.7.self_attn.out_proj: torch.Size([16, 256, 768])\n",
      "  model.decoder.layers.7.fc1: torch.Size([4096, 768])\n",
      "  model.decoder.layers.7.fc2: torch.Size([4096, 3072])\n",
      "  model.decoder.layers.8.self_attn.q_proj: torch.Size([16, 256, 768])\n",
      "  model.decoder.layers.8.self_attn.k_proj: torch.Size([16, 256, 768])\n",
      "  model.decoder.layers.8.self_attn.v_proj: torch.Size([16, 256, 768])\n",
      "  model.decoder.layers.8.self_attn.out_proj: torch.Size([16, 256, 768])\n",
      "  model.decoder.layers.8.fc1: torch.Size([4096, 768])\n",
      "  model.decoder.layers.8.fc2: torch.Size([4096, 3072])\n",
      "  model.decoder.layers.9.self_attn.q_proj: torch.Size([16, 256, 768])\n",
      "  model.decoder.layers.9.self_attn.k_proj: torch.Size([16, 256, 768])\n",
      "  model.decoder.layers.9.self_attn.v_proj: torch.Size([16, 256, 768])\n",
      "  model.decoder.layers.9.self_attn.out_proj: torch.Size([16, 256, 768])\n",
      "  model.decoder.layers.9.fc1: torch.Size([4096, 768])\n",
      "  model.decoder.layers.9.fc2: torch.Size([4096, 3072])\n",
      "  model.decoder.layers.10.self_attn.q_proj: torch.Size([16, 256, 768])\n",
      "  model.decoder.layers.10.self_attn.k_proj: torch.Size([16, 256, 768])\n",
      "  model.decoder.layers.10.self_attn.v_proj: torch.Size([16, 256, 768])\n",
      "  model.decoder.layers.10.self_attn.out_proj: torch.Size([16, 256, 768])\n",
      "  model.decoder.layers.10.fc1: torch.Size([4096, 768])\n",
      "  model.decoder.layers.10.fc2: torch.Size([4096, 3072])\n",
      "  model.decoder.layers.11.self_attn.q_proj: torch.Size([16, 256, 768])\n",
      "  model.decoder.layers.11.self_attn.k_proj: torch.Size([16, 256, 768])\n",
      "  model.decoder.layers.11.self_attn.v_proj: torch.Size([16, 256, 768])\n",
      "  model.decoder.layers.11.self_attn.out_proj: torch.Size([16, 256, 768])\n",
      "  model.decoder.layers.11.fc1: torch.Size([4096, 768])\n",
      "  model.decoder.layers.11.fc2: torch.Size([4096, 3072])\n"
     ]
    }
   ],
   "source": [
    "# Collect activations by running forward passes\n",
    "print(\"Collecting activations...\")\n",
    "\n",
    "with torch.no_grad():\n",
    "    # Process calibration data in smaller batches\n",
    "    batch_size = 8\n",
    "    num_batches = len(calibration_data['input_ids']) // batch_size\n",
    "    \n",
    "    for i in tqdm(range(num_batches)):\n",
    "        start_idx = i * batch_size\n",
    "        end_idx = min((i + 1) * batch_size, len(calibration_data['input_ids']))\n",
    "        \n",
    "        batch_input_ids = calibration_data['input_ids'][start_idx:end_idx].to(device)\n",
    "        batch_attention_mask = calibration_data['attention_mask'][start_idx:end_idx].to(device)\n",
    "        \n",
    "        # Forward pass\n",
    "        outputs = model(\n",
    "            input_ids=batch_input_ids,\n",
    "            attention_mask=batch_attention_mask\n",
    "        )\n",
    "\n",
    "# Get aggregated activations\n",
    "activations_original = collector.get_aggregated_activations()\n",
    "collector.remove_hooks()\n",
    "\n",
    "print(f\"Collected activations from {len(activations_original)} layers\")\n",
    "for name, acts in activations_original.items():\n",
    "    print(f\"  {name}: {acts.shape}\")"
   ]
  },
  {
   "cell_type": "markdown",
   "id": "cbee2a1a",
   "metadata": {},
   "source": [
    "## 4. Weight and Activation Distribution Analysis\n",
    "\n",
    "Now we analyze the distribution characteristics of weights and activations to understand the quantization challenges."
   ]
  },
  {
   "cell_type": "code",
   "execution_count": 7,
   "id": "6c8ec1b9",
   "metadata": {},
   "outputs": [
    {
     "name": "stdout",
     "output_type": "stream",
     "text": [
      "\n",
      "Activations - model.decoder.layers.0.fc1 Distribution Statistics:\n",
      "  Mean: 0.022720\n",
      "  Std:  0.146802\n",
      "  Range: [-1.835988, 2.868430]\n",
      "  95th percentile: 0.253212\n",
      "  99th percentile: 0.392082\n",
      "  Absolute max: 2.868430\n",
      "\n",
      "Weights - model.decoder.layers.0.fc1 Distribution Statistics:\n",
      "  Mean: -0.003173\n",
      "  Std:  0.029351\n",
      "  Range: [-0.997559, 0.562988]\n",
      "  95th percentile: 0.038086\n",
      "  99th percentile: 0.057068\n",
      "  Absolute max: 0.997559\n",
      "\n",
      "Weights - model.decoder.layers.0.fc1 Distribution Statistics:\n",
      "  Mean: -0.003173\n",
      "  Std:  0.029351\n",
      "  Range: [-0.997559, 0.562988]\n",
      "  95th percentile: 0.038086\n",
      "  99th percentile: 0.057068\n",
      "  Absolute max: 0.997559\n"
     ]
    }
   ],
   "source": [
    "def analyze_distribution_stats(tensor, name):\n",
    "    \"\"\"Analyze statistical properties of tensor distributions.\"\"\"\n",
    "    \n",
    "    # Flatten tensor for analysis\n",
    "    flat_tensor = tensor.flatten()\n",
    "    \n",
    "    stats = {\n",
    "        'mean': float(torch.mean(flat_tensor)),\n",
    "        'std': float(torch.std(flat_tensor)),\n",
    "        'min': float(torch.min(flat_tensor)),\n",
    "        'max': float(torch.max(flat_tensor)),\n",
    "        'median': float(torch.median(flat_tensor)),\n",
    "        'q95': float(torch.quantile(flat_tensor, 0.95)),\n",
    "        'q99': float(torch.quantile(flat_tensor, 0.99)),\n",
    "        'abs_max': float(torch.max(torch.abs(flat_tensor)))\n",
    "    }\n",
    "    \n",
    "    print(f\"\\n{name} Distribution Statistics:\")\n",
    "    print(f\"  Mean: {stats['mean']:.6f}\")\n",
    "    print(f\"  Std:  {stats['std']:.6f}\")\n",
    "    print(f\"  Range: [{stats['min']:.6f}, {stats['max']:.6f}]\")\n",
    "    print(f\"  95th percentile: {stats['q95']:.6f}\")\n",
    "    print(f\"  99th percentile: {stats['q99']:.6f}\")\n",
    "    print(f\"  Absolute max: {stats['abs_max']:.6f}\")\n",
    "    \n",
    "    return stats\n",
    "\n",
    "# Analyze activations\n",
    "activation_stats = {}\n",
    "for name, acts in activations_original.items():\n",
    "    if 'fc1' in name:  # Focus on one representative layer\n",
    "        activation_stats[name] = analyze_distribution_stats(acts, f\"Activations - {name}\")\n",
    "        break\n",
    "\n",
    "# Analyze weights from the same layer\n",
    "weight_stats = {}\n",
    "for name, module in model.named_modules():\n",
    "    if 'fc1' in name and isinstance(module, nn.Linear):\n",
    "        weight_stats[name] = analyze_distribution_stats(module.weight.data.cpu(), f\"Weights - {name}\")\n",
    "        break"
   ]
  },
  {
   "cell_type": "markdown",
   "id": "8b57c817",
   "metadata": {},
   "source": [
    "## 5. Pre-SmoothQuant Visualization\n",
    "\n",
    "We create 3D visualizations similar to those in the SmoothQuant paper, showing the distribution of weights and activations across channels and tokens."
   ]
  },
  {
   "cell_type": "code",
   "execution_count": 8,
   "id": "172575d0",
   "metadata": {},
   "outputs": [
    {
     "name": "stdout",
     "output_type": "stream",
     "text": [
      "Analyzing layer: model.decoder.layers.0.fc1\n",
      "Activation shape: torch.Size([4096, 768])\n",
      "Weight shape: torch.Size([3072, 768])\n"
     ]
    }
   ],
   "source": [
    "def create_3d_distribution_plot(tensor, title, max_channels=64, max_tokens=128):\n",
    "    \"\"\"Create 3D plot showing Channel x Token x Absolute Value distribution.\"\"\"\n",
    "    \n",
    "    # Reshape tensor to [batch*seq_len, channels] if needed\n",
    "    if len(tensor.shape) == 3:\n",
    "        tensor = tensor.reshape(-1, tensor.shape[-1])\n",
    "    \n",
    "    # Sample data for visualization\n",
    "    num_tokens = min(tensor.shape[0], max_tokens)\n",
    "    num_channels = min(tensor.shape[1], max_channels)\n",
    "    \n",
    "    # Sample indices\n",
    "    token_indices = torch.randperm(tensor.shape[0])[:num_tokens]\n",
    "    channel_indices = torch.randperm(tensor.shape[1])[:num_channels]\n",
    "    \n",
    "    # Extract sampled data\n",
    "    sampled_data = tensor[token_indices][:, channel_indices]\n",
    "    abs_values = torch.abs(sampled_data)\n",
    "    \n",
    "    # Create meshgrid for 3D plot\n",
    "    channels = np.arange(num_channels)\n",
    "    tokens = np.arange(num_tokens)\n",
    "    C, T = np.meshgrid(channels, tokens)\n",
    "    \n",
    "    # Create 3D surface plot\n",
    "    fig = go.Figure(data=[go.Surface(\n",
    "        z=abs_values.numpy(),\n",
    "        x=C,\n",
    "        y=T,\n",
    "        colorscale='Viridis',\n",
    "        colorbar=dict(title=\"Absolute Value\")\n",
    "    )])\n",
    "    \n",
    "    fig.update_layout(\n",
    "        title=title,\n",
    "        scene=dict(\n",
    "            xaxis_title='Channel Index',\n",
    "            yaxis_title='Token Index',\n",
    "            zaxis_title='Absolute Value'\n",
    "        ),\n",
    "        width=800,\n",
    "        height=600\n",
    "    )\n",
    "    \n",
    "    return fig\n",
    "\n",
    "# Get representative layer data\n",
    "fc1_layer_name = None\n",
    "fc1_activations = None\n",
    "fc1_weights = None\n",
    "\n",
    "# Find FC1 layer\n",
    "for name, acts in activations_original.items():\n",
    "    if 'fc1' in name:\n",
    "        fc1_layer_name = name\n",
    "        fc1_activations = acts\n",
    "        break\n",
    "\n",
    "# Get corresponding weights\n",
    "for name, module in model.named_modules():\n",
    "    if name == fc1_layer_name:\n",
    "        fc1_weights = module.weight.data.cpu()\n",
    "        break\n",
    "\n",
    "print(f\"Analyzing layer: {fc1_layer_name}\")\n",
    "print(f\"Activation shape: {fc1_activations.shape}\")\n",
    "print(f\"Weight shape: {fc1_weights.shape}\")"
   ]
  },
  {
   "cell_type": "code",
   "execution_count": 9,
   "id": "895aa0b1",
   "metadata": {},
   "outputs": [
    {
     "name": "stdout",
     "output_type": "stream",
     "text": [
      "Creating 3D visualizations for original distributions...\n"
     ]
    },
    {
     "data": {
      "application/vnd.plotly.v1+json": {
       "config": {
        "plotlyServerURL": "https://plot.ly"
       },
       "data": [
        {
         "colorbar": {
          "title": {
           "text": "Absolute Value"
          }
         },
         "colorscale": [
          [
           0,
           "#440154"
          ],
          [
           0.1111111111111111,
           "#482878"
          ],
          [
           0.2222222222222222,
           "#3e4989"
          ],
          [
           0.3333333333333333,
           "#31688e"
          ],
          [
           0.4444444444444444,
           "#26828e"
          ],
          [
           0.5555555555555556,
           "#1f9e89"
          ],
          [
           0.6666666666666666,
           "#35b779"
          ],
          [
           0.7777777777777778,
           "#6ece58"
          ],
          [
           0.8888888888888888,
           "#b5de2b"
          ],
          [
           1,
           "#fde725"
          ]
         ],
         "type": "surface",
         "x": {
          "bdata": "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",
          "dtype": "i1",
          "shape": "128, 64"
         },
         "y": {
          "bdata": "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",
          "dtype": "i1",
          "shape": "128, 64"
         },
         "z": {
          "bdata": "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",
          "dtype": "f4",
          "shape": "128, 64"
         }
        }
       ],
       "layout": {
        "height": 600,
        "scene": {
         "xaxis": {
          "title": {
           "text": "Channel Index"
          }
         },
         "yaxis": {
          "title": {
           "text": "Token Index"
          }
         },
         "zaxis": {
          "title": {
           "text": "Absolute Value"
          }
         }
        },
        "template": {
         "data": {
          "bar": [
           {
            "error_x": {
             "color": "#2a3f5f"
            },
            "error_y": {
             "color": "#2a3f5f"
            },
            "marker": {
             "line": {
              "color": "#E5ECF6",
              "width": 0.5
             },
             "pattern": {
              "fillmode": "overlay",
              "size": 10,
              "solidity": 0.2
             }
            },
            "type": "bar"
           }
          ],
          "barpolar": [
           {
            "marker": {
             "line": {
              "color": "#E5ECF6",
              "width": 0.5
             },
             "pattern": {
              "fillmode": "overlay",
              "size": 10,
              "solidity": 0.2
             }
            },
            "type": "barpolar"
           }
          ],
          "carpet": [
           {
            "aaxis": {
             "endlinecolor": "#2a3f5f",
             "gridcolor": "white",
             "linecolor": "white",
             "minorgridcolor": "white",
             "startlinecolor": "#2a3f5f"
            },
            "baxis": {
             "endlinecolor": "#2a3f5f",
             "gridcolor": "white",
             "linecolor": "white",
             "minorgridcolor": "white",
             "startlinecolor": "#2a3f5f"
            },
            "type": "carpet"
           }
          ],
          "choropleth": [
           {
            "colorbar": {
             "outlinewidth": 0,
             "ticks": ""
            },
            "type": "choropleth"
           }
          ],
          "contour": [
           {
            "colorbar": {
             "outlinewidth": 0,
             "ticks": ""
            },
            "colorscale": [
             [
              0,
              "#0d0887"
             ],
             [
              0.1111111111111111,
              "#46039f"
             ],
             [
              0.2222222222222222,
              "#7201a8"
             ],
             [
              0.3333333333333333,
              "#9c179e"
             ],
             [
              0.4444444444444444,
              "#bd3786"
             ],
             [
              0.5555555555555556,
              "#d8576b"
             ],
             [
              0.6666666666666666,
              "#ed7953"
             ],
             [
              0.7777777777777778,
              "#fb9f3a"
             ],
             [
              0.8888888888888888,
              "#fdca26"
             ],
             [
              1,
              "#f0f921"
             ]
            ],
            "type": "contour"
           }
          ],
          "contourcarpet": [
           {
            "colorbar": {
             "outlinewidth": 0,
             "ticks": ""
            },
            "type": "contourcarpet"
           }
          ],
          "heatmap": [
           {
            "colorbar": {
             "outlinewidth": 0,
             "ticks": ""
            },
            "colorscale": [
             [
              0,
              "#0d0887"
             ],
             [
              0.1111111111111111,
              "#46039f"
             ],
             [
              0.2222222222222222,
              "#7201a8"
             ],
             [
              0.3333333333333333,
              "#9c179e"
             ],
             [
              0.4444444444444444,
              "#bd3786"
             ],
             [
              0.5555555555555556,
              "#d8576b"
             ],
             [
              0.6666666666666666,
              "#ed7953"
             ],
             [
              0.7777777777777778,
              "#fb9f3a"
             ],
             [
              0.8888888888888888,
              "#fdca26"
             ],
             [
              1,
              "#f0f921"
             ]
            ],
            "type": "heatmap"
           }
          ],
          "histogram": [
           {
            "marker": {
             "pattern": {
              "fillmode": "overlay",
              "size": 10,
              "solidity": 0.2
             }
            },
            "type": "histogram"
           }
          ],
          "histogram2d": [
           {
            "colorbar": {
             "outlinewidth": 0,
             "ticks": ""
            },
            "colorscale": [
             [
              0,
              "#0d0887"
             ],
             [
              0.1111111111111111,
              "#46039f"
             ],
             [
              0.2222222222222222,
              "#7201a8"
             ],
             [
              0.3333333333333333,
              "#9c179e"
             ],
             [
              0.4444444444444444,
              "#bd3786"
             ],
             [
              0.5555555555555556,
              "#d8576b"
             ],
             [
              0.6666666666666666,
              "#ed7953"
             ],
             [
              0.7777777777777778,
              "#fb9f3a"
             ],
             [
              0.8888888888888888,
              "#fdca26"
             ],
             [
              1,
              "#f0f921"
             ]
            ],
            "type": "histogram2d"
           }
          ],
          "histogram2dcontour": [
           {
            "colorbar": {
             "outlinewidth": 0,
             "ticks": ""
            },
            "colorscale": [
             [
              0,
              "#0d0887"
             ],
             [
              0.1111111111111111,
              "#46039f"
             ],
             [
              0.2222222222222222,
              "#7201a8"
             ],
             [
              0.3333333333333333,
              "#9c179e"
             ],
             [
              0.4444444444444444,
              "#bd3786"
             ],
             [
              0.5555555555555556,
              "#d8576b"
             ],
             [
              0.6666666666666666,
              "#ed7953"
             ],
             [
              0.7777777777777778,
              "#fb9f3a"
             ],
             [
              0.8888888888888888,
              "#fdca26"
             ],
             [
              1,
              "#f0f921"
             ]
            ],
            "type": "histogram2dcontour"
           }
          ],
          "mesh3d": [
           {
            "colorbar": {
             "outlinewidth": 0,
             "ticks": ""
            },
            "type": "mesh3d"
           }
          ],
          "parcoords": [
           {
            "line": {
             "colorbar": {
              "outlinewidth": 0,
              "ticks": ""
             }
            },
            "type": "parcoords"
           }
          ],
          "pie": [
           {
            "automargin": true,
            "type": "pie"
           }
          ],
          "scatter": [
           {
            "fillpattern": {
             "fillmode": "overlay",
             "size": 10,
             "solidity": 0.2
            },
            "type": "scatter"
           }
          ],
          "scatter3d": [
           {
            "line": {
             "colorbar": {
              "outlinewidth": 0,
              "ticks": ""
             }
            },
            "marker": {
             "colorbar": {
              "outlinewidth": 0,
              "ticks": ""
             }
            },
            "type": "scatter3d"
           }
          ],
          "scattercarpet": [
           {
            "marker": {
             "colorbar": {
              "outlinewidth": 0,
              "ticks": ""
             }
            },
            "type": "scattercarpet"
           }
          ],
          "scattergeo": [
           {
            "marker": {
             "colorbar": {
              "outlinewidth": 0,
              "ticks": ""
             }
            },
            "type": "scattergeo"
           }
          ],
          "scattergl": [
           {
            "marker": {
             "colorbar": {
              "outlinewidth": 0,
              "ticks": ""
             }
            },
            "type": "scattergl"
           }
          ],
          "scattermap": [
           {
            "marker": {
             "colorbar": {
              "outlinewidth": 0,
              "ticks": ""
             }
            },
            "type": "scattermap"
           }
          ],
          "scattermapbox": [
           {
            "marker": {
             "colorbar": {
              "outlinewidth": 0,
              "ticks": ""
             }
            },
            "type": "scattermapbox"
           }
          ],
          "scatterpolar": [
           {
            "marker": {
             "colorbar": {
              "outlinewidth": 0,
              "ticks": ""
             }
            },
            "type": "scatterpolar"
           }
          ],
          "scatterpolargl": [
           {
            "marker": {
             "colorbar": {
              "outlinewidth": 0,
              "ticks": ""
             }
            },
            "type": "scatterpolargl"
           }
          ],
          "scatterternary": [
           {
            "marker": {
             "colorbar": {
              "outlinewidth": 0,
              "ticks": ""
             }
            },
            "type": "scatterternary"
           }
          ],
          "surface": [
           {
            "colorbar": {
             "outlinewidth": 0,
             "ticks": ""
            },
            "colorscale": [
             [
              0,
              "#0d0887"
             ],
             [
              0.1111111111111111,
              "#46039f"
             ],
             [
              0.2222222222222222,
              "#7201a8"
             ],
             [
              0.3333333333333333,
              "#9c179e"
             ],
             [
              0.4444444444444444,
              "#bd3786"
             ],
             [
              0.5555555555555556,
              "#d8576b"
             ],
             [
              0.6666666666666666,
              "#ed7953"
             ],
             [
              0.7777777777777778,
              "#fb9f3a"
             ],
             [
              0.8888888888888888,
              "#fdca26"
             ],
             [
              1,
              "#f0f921"
             ]
            ],
            "type": "surface"
           }
          ],
          "table": [
           {
            "cells": {
             "fill": {
              "color": "#EBF0F8"
             },
             "line": {
              "color": "white"
             }
            },
            "header": {
             "fill": {
              "color": "#C8D4E3"
             },
             "line": {
              "color": "white"
             }
            },
            "type": "table"
           }
          ]
         },
         "layout": {
          "annotationdefaults": {
           "arrowcolor": "#2a3f5f",
           "arrowhead": 0,
           "arrowwidth": 1
          },
          "autotypenumbers": "strict",
          "coloraxis": {
           "colorbar": {
            "outlinewidth": 0,
            "ticks": ""
           }
          },
          "colorscale": {
           "diverging": [
            [
             0,
             "#8e0152"
            ],
            [
             0.1,
             "#c51b7d"
            ],
            [
             0.2,
             "#de77ae"
            ],
            [
             0.3,
             "#f1b6da"
            ],
            [
             0.4,
             "#fde0ef"
            ],
            [
             0.5,
             "#f7f7f7"
            ],
            [
             0.6,
             "#e6f5d0"
            ],
            [
             0.7,
             "#b8e186"
            ],
            [
             0.8,
             "#7fbc41"
            ],
            [
             0.9,
             "#4d9221"
            ],
            [
             1,
             "#276419"
            ]
           ],
           "sequential": [
            [
             0,
             "#0d0887"
            ],
            [
             0.1111111111111111,
             "#46039f"
            ],
            [
             0.2222222222222222,
             "#7201a8"
            ],
            [
             0.3333333333333333,
             "#9c179e"
            ],
            [
             0.4444444444444444,
             "#bd3786"
            ],
            [
             0.5555555555555556,
             "#d8576b"
            ],
            [
             0.6666666666666666,
             "#ed7953"
            ],
            [
             0.7777777777777778,
             "#fb9f3a"
            ],
            [
             0.8888888888888888,
             "#fdca26"
            ],
            [
             1,
             "#f0f921"
            ]
           ],
           "sequentialminus": [
            [
             0,
             "#0d0887"
            ],
            [
             0.1111111111111111,
             "#46039f"
            ],
            [
             0.2222222222222222,
             "#7201a8"
            ],
            [
             0.3333333333333333,
             "#9c179e"
            ],
            [
             0.4444444444444444,
             "#bd3786"
            ],
            [
             0.5555555555555556,
             "#d8576b"
            ],
            [
             0.6666666666666666,
             "#ed7953"
            ],
            [
             0.7777777777777778,
             "#fb9f3a"
            ],
            [
             0.8888888888888888,
             "#fdca26"
            ],
            [
             1,
             "#f0f921"
            ]
           ]
          },
          "colorway": [
           "#636efa",
           "#EF553B",
           "#00cc96",
           "#ab63fa",
           "#FFA15A",
           "#19d3f3",
           "#FF6692",
           "#B6E880",
           "#FF97FF",
           "#FECB52"
          ],
          "font": {
           "color": "#2a3f5f"
          },
          "geo": {
           "bgcolor": "white",
           "lakecolor": "white",
           "landcolor": "#E5ECF6",
           "showlakes": true,
           "showland": true,
           "subunitcolor": "white"
          },
          "hoverlabel": {
           "align": "left"
          },
          "hovermode": "closest",
          "mapbox": {
           "style": "light"
          },
          "paper_bgcolor": "white",
          "plot_bgcolor": "#E5ECF6",
          "polar": {
           "angularaxis": {
            "gridcolor": "white",
            "linecolor": "white",
            "ticks": ""
           },
           "bgcolor": "#E5ECF6",
           "radialaxis": {
            "gridcolor": "white",
            "linecolor": "white",
            "ticks": ""
           }
          },
          "scene": {
           "xaxis": {
            "backgroundcolor": "#E5ECF6",
            "gridcolor": "white",
            "gridwidth": 2,
            "linecolor": "white",
            "showbackground": true,
            "ticks": "",
            "zerolinecolor": "white"
           },
           "yaxis": {
            "backgroundcolor": "#E5ECF6",
            "gridcolor": "white",
            "gridwidth": 2,
            "linecolor": "white",
            "showbackground": true,
            "ticks": "",
            "zerolinecolor": "white"
           },
           "zaxis": {
            "backgroundcolor": "#E5ECF6",
            "gridcolor": "white",
            "gridwidth": 2,
            "linecolor": "white",
            "showbackground": true,
            "ticks": "",
            "zerolinecolor": "white"
           }
          },
          "shapedefaults": {
           "line": {
            "color": "#2a3f5f"
           }
          },
          "ternary": {
           "aaxis": {
            "gridcolor": "white",
            "linecolor": "white",
            "ticks": ""
           },
           "baxis": {
            "gridcolor": "white",
            "linecolor": "white",
            "ticks": ""
           },
           "bgcolor": "#E5ECF6",
           "caxis": {
            "gridcolor": "white",
            "linecolor": "white",
            "ticks": ""
           }
          },
          "title": {
           "x": 0.05
          },
          "xaxis": {
           "automargin": true,
           "gridcolor": "white",
           "linecolor": "white",
           "ticks": "",
           "title": {
            "standoff": 15
           },
           "zerolinecolor": "white",
           "zerolinewidth": 2
          },
          "yaxis": {
           "automargin": true,
           "gridcolor": "white",
           "linecolor": "white",
           "ticks": "",
           "title": {
            "standoff": 15
           },
           "zerolinecolor": "white",
           "zerolinewidth": 2
          }
         }
        },
        "title": {
         "text": "Original Activations Distribution (Channel × Token × Absolute Value)"
        },
        "width": 800
       }
      }
     },
     "metadata": {},
     "output_type": "display_data"
    },
    {
     "data": {
      "application/vnd.plotly.v1+json": {
       "config": {
        "plotlyServerURL": "https://plot.ly"
       },
       "data": [
        {
         "colorbar": {
          "title": {
           "text": "Absolute Value"
          }
         },
         "colorscale": [
          [
           0,
           "#440154"
          ],
          [
           0.1111111111111111,
           "#482878"
          ],
          [
           0.2222222222222222,
           "#3e4989"
          ],
          [
           0.3333333333333333,
           "#31688e"
          ],
          [
           0.4444444444444444,
           "#26828e"
          ],
          [
           0.5555555555555556,
           "#1f9e89"
          ],
          [
           0.6666666666666666,
           "#35b779"
          ],
          [
           0.7777777777777778,
           "#6ece58"
          ],
          [
           0.8888888888888888,
           "#b5de2b"
          ],
          [
           1,
           "#fde725"
          ]
         ],
         "type": "surface",
         "x": {
          "bdata": "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",
          "dtype": "i1",
          "shape": "128, 64"
         },
         "y": {
          "bdata": "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",
          "dtype": "i1",
          "shape": "128, 64"
         },
         "z": {
          "bdata": "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",
          "dtype": "f4",
          "shape": "128, 64"
         }
        }
       ],
       "layout": {
        "height": 600,
        "scene": {
         "xaxis": {
          "title": {
           "text": "Channel Index"
          }
         },
         "yaxis": {
          "title": {
           "text": "Token Index"
          }
         },
         "zaxis": {
          "title": {
           "text": "Absolute Value"
          }
         }
        },
        "template": {
         "data": {
          "bar": [
           {
            "error_x": {
             "color": "#2a3f5f"
            },
            "error_y": {
             "color": "#2a3f5f"
            },
            "marker": {
             "line": {
              "color": "#E5ECF6",
              "width": 0.5
             },
             "pattern": {
              "fillmode": "overlay",
              "size": 10,
              "solidity": 0.2
             }
            },
            "type": "bar"
           }
          ],
          "barpolar": [
           {
            "marker": {
             "line": {
              "color": "#E5ECF6",
              "width": 0.5
             },
             "pattern": {
              "fillmode": "overlay",
              "size": 10,
              "solidity": 0.2
             }
            },
            "type": "barpolar"
           }
          ],
          "carpet": [
           {
            "aaxis": {
             "endlinecolor": "#2a3f5f",
             "gridcolor": "white",
             "linecolor": "white",
             "minorgridcolor": "white",
             "startlinecolor": "#2a3f5f"
            },
            "baxis": {
             "endlinecolor": "#2a3f5f",
             "gridcolor": "white",
             "linecolor": "white",
             "minorgridcolor": "white",
             "startlinecolor": "#2a3f5f"
            },
            "type": "carpet"
           }
          ],
          "choropleth": [
           {
            "colorbar": {
             "outlinewidth": 0,
             "ticks": ""
            },
            "type": "choropleth"
           }
          ],
          "contour": [
           {
            "colorbar": {
             "outlinewidth": 0,
             "ticks": ""
            },
            "colorscale": [
             [
              0,
              "#0d0887"
             ],
             [
              0.1111111111111111,
              "#46039f"
             ],
             [
              0.2222222222222222,
              "#7201a8"
             ],
             [
              0.3333333333333333,
              "#9c179e"
             ],
             [
              0.4444444444444444,
              "#bd3786"
             ],
             [
              0.5555555555555556,
              "#d8576b"
             ],
             [
              0.6666666666666666,
              "#ed7953"
             ],
             [
              0.7777777777777778,
              "#fb9f3a"
             ],
             [
              0.8888888888888888,
              "#fdca26"
             ],
             [
              1,
              "#f0f921"
             ]
            ],
            "type": "contour"
           }
          ],
          "contourcarpet": [
           {
            "colorbar": {
             "outlinewidth": 0,
             "ticks": ""
            },
            "type": "contourcarpet"
           }
          ],
          "heatmap": [
           {
            "colorbar": {
             "outlinewidth": 0,
             "ticks": ""
            },
            "colorscale": [
             [
              0,
              "#0d0887"
             ],
             [
              0.1111111111111111,
              "#46039f"
             ],
             [
              0.2222222222222222,
              "#7201a8"
             ],
             [
              0.3333333333333333,
              "#9c179e"
             ],
             [
              0.4444444444444444,
              "#bd3786"
             ],
             [
              0.5555555555555556,
              "#d8576b"
             ],
             [
              0.6666666666666666,
              "#ed7953"
             ],
             [
              0.7777777777777778,
              "#fb9f3a"
             ],
             [
              0.8888888888888888,
              "#fdca26"
             ],
             [
              1,
              "#f0f921"
             ]
            ],
            "type": "heatmap"
           }
          ],
          "histogram": [
           {
            "marker": {
             "pattern": {
              "fillmode": "overlay",
              "size": 10,
              "solidity": 0.2
             }
            },
            "type": "histogram"
           }
          ],
          "histogram2d": [
           {
            "colorbar": {
             "outlinewidth": 0,
             "ticks": ""
            },
            "colorscale": [
             [
              0,
              "#0d0887"
             ],
             [
              0.1111111111111111,
              "#46039f"
             ],
             [
              0.2222222222222222,
              "#7201a8"
             ],
             [
              0.3333333333333333,
              "#9c179e"
             ],
             [
              0.4444444444444444,
              "#bd3786"
             ],
             [
              0.5555555555555556,
              "#d8576b"
             ],
             [
              0.6666666666666666,
              "#ed7953"
             ],
             [
              0.7777777777777778,
              "#fb9f3a"
             ],
             [
              0.8888888888888888,
              "#fdca26"
             ],
             [
              1,
              "#f0f921"
             ]
            ],
            "type": "histogram2d"
           }
          ],
          "histogram2dcontour": [
           {
            "colorbar": {
             "outlinewidth": 0,
             "ticks": ""
            },
            "colorscale": [
             [
              0,
              "#0d0887"
             ],
             [
              0.1111111111111111,
              "#46039f"
             ],
             [
              0.2222222222222222,
              "#7201a8"
             ],
             [
              0.3333333333333333,
              "#9c179e"
             ],
             [
              0.4444444444444444,
              "#bd3786"
             ],
             [
              0.5555555555555556,
              "#d8576b"
             ],
             [
              0.6666666666666666,
              "#ed7953"
             ],
             [
              0.7777777777777778,
              "#fb9f3a"
             ],
             [
              0.8888888888888888,
              "#fdca26"
             ],
             [
              1,
              "#f0f921"
             ]
            ],
            "type": "histogram2dcontour"
           }
          ],
          "mesh3d": [
           {
            "colorbar": {
             "outlinewidth": 0,
             "ticks": ""
            },
            "type": "mesh3d"
           }
          ],
          "parcoords": [
           {
            "line": {
             "colorbar": {
              "outlinewidth": 0,
              "ticks": ""
             }
            },
            "type": "parcoords"
           }
          ],
          "pie": [
           {
            "automargin": true,
            "type": "pie"
           }
          ],
          "scatter": [
           {
            "fillpattern": {
             "fillmode": "overlay",
             "size": 10,
             "solidity": 0.2
            },
            "type": "scatter"
           }
          ],
          "scatter3d": [
           {
            "line": {
             "colorbar": {
              "outlinewidth": 0,
              "ticks": ""
             }
            },
            "marker": {
             "colorbar": {
              "outlinewidth": 0,
              "ticks": ""
             }
            },
            "type": "scatter3d"
           }
          ],
          "scattercarpet": [
           {
            "marker": {
             "colorbar": {
              "outlinewidth": 0,
              "ticks": ""
             }
            },
            "type": "scattercarpet"
           }
          ],
          "scattergeo": [
           {
            "marker": {
             "colorbar": {
              "outlinewidth": 0,
              "ticks": ""
             }
            },
            "type": "scattergeo"
           }
          ],
          "scattergl": [
           {
            "marker": {
             "colorbar": {
              "outlinewidth": 0,
              "ticks": ""
             }
            },
            "type": "scattergl"
           }
          ],
          "scattermap": [
           {
            "marker": {
             "colorbar": {
              "outlinewidth": 0,
              "ticks": ""
             }
            },
            "type": "scattermap"
           }
          ],
          "scattermapbox": [
           {
            "marker": {
             "colorbar": {
              "outlinewidth": 0,
              "ticks": ""
             }
            },
            "type": "scattermapbox"
           }
          ],
          "scatterpolar": [
           {
            "marker": {
             "colorbar": {
              "outlinewidth": 0,
              "ticks": ""
             }
            },
            "type": "scatterpolar"
           }
          ],
          "scatterpolargl": [
           {
            "marker": {
             "colorbar": {
              "outlinewidth": 0,
              "ticks": ""
             }
            },
            "type": "scatterpolargl"
           }
          ],
          "scatterternary": [
           {
            "marker": {
             "colorbar": {
              "outlinewidth": 0,
              "ticks": ""
             }
            },
            "type": "scatterternary"
           }
          ],
          "surface": [
           {
            "colorbar": {
             "outlinewidth": 0,
             "ticks": ""
            },
            "colorscale": [
             [
              0,
              "#0d0887"
             ],
             [
              0.1111111111111111,
              "#46039f"
             ],
             [
              0.2222222222222222,
              "#7201a8"
             ],
             [
              0.3333333333333333,
              "#9c179e"
             ],
             [
              0.4444444444444444,
              "#bd3786"
             ],
             [
              0.5555555555555556,
              "#d8576b"
             ],
             [
              0.6666666666666666,
              "#ed7953"
             ],
             [
              0.7777777777777778,
              "#fb9f3a"
             ],
             [
              0.8888888888888888,
              "#fdca26"
             ],
             [
              1,
              "#f0f921"
             ]
            ],
            "type": "surface"
           }
          ],
          "table": [
           {
            "cells": {
             "fill": {
              "color": "#EBF0F8"
             },
             "line": {
              "color": "white"
             }
            },
            "header": {
             "fill": {
              "color": "#C8D4E3"
             },
             "line": {
              "color": "white"
             }
            },
            "type": "table"
           }
          ]
         },
         "layout": {
          "annotationdefaults": {
           "arrowcolor": "#2a3f5f",
           "arrowhead": 0,
           "arrowwidth": 1
          },
          "autotypenumbers": "strict",
          "coloraxis": {
           "colorbar": {
            "outlinewidth": 0,
            "ticks": ""
           }
          },
          "colorscale": {
           "diverging": [
            [
             0,
             "#8e0152"
            ],
            [
             0.1,
             "#c51b7d"
            ],
            [
             0.2,
             "#de77ae"
            ],
            [
             0.3,
             "#f1b6da"
            ],
            [
             0.4,
             "#fde0ef"
            ],
            [
             0.5,
             "#f7f7f7"
            ],
            [
             0.6,
             "#e6f5d0"
            ],
            [
             0.7,
             "#b8e186"
            ],
            [
             0.8,
             "#7fbc41"
            ],
            [
             0.9,
             "#4d9221"
            ],
            [
             1,
             "#276419"
            ]
           ],
           "sequential": [
            [
             0,
             "#0d0887"
            ],
            [
             0.1111111111111111,
             "#46039f"
            ],
            [
             0.2222222222222222,
             "#7201a8"
            ],
            [
             0.3333333333333333,
             "#9c179e"
            ],
            [
             0.4444444444444444,
             "#bd3786"
            ],
            [
             0.5555555555555556,
             "#d8576b"
            ],
            [
             0.6666666666666666,
             "#ed7953"
            ],
            [
             0.7777777777777778,
             "#fb9f3a"
            ],
            [
             0.8888888888888888,
             "#fdca26"
            ],
            [
             1,
             "#f0f921"
            ]
           ],
           "sequentialminus": [
            [
             0,
             "#0d0887"
            ],
            [
             0.1111111111111111,
             "#46039f"
            ],
            [
             0.2222222222222222,
             "#7201a8"
            ],
            [
             0.3333333333333333,
             "#9c179e"
            ],
            [
             0.4444444444444444,
             "#bd3786"
            ],
            [
             0.5555555555555556,
             "#d8576b"
            ],
            [
             0.6666666666666666,
             "#ed7953"
            ],
            [
             0.7777777777777778,
             "#fb9f3a"
            ],
            [
             0.8888888888888888,
             "#fdca26"
            ],
            [
             1,
             "#f0f921"
            ]
           ]
          },
          "colorway": [
           "#636efa",
           "#EF553B",
           "#00cc96",
           "#ab63fa",
           "#FFA15A",
           "#19d3f3",
           "#FF6692",
           "#B6E880",
           "#FF97FF",
           "#FECB52"
          ],
          "font": {
           "color": "#2a3f5f"
          },
          "geo": {
           "bgcolor": "white",
           "lakecolor": "white",
           "landcolor": "#E5ECF6",
           "showlakes": true,
           "showland": true,
           "subunitcolor": "white"
          },
          "hoverlabel": {
           "align": "left"
          },
          "hovermode": "closest",
          "mapbox": {
           "style": "light"
          },
          "paper_bgcolor": "white",
          "plot_bgcolor": "#E5ECF6",
          "polar": {
           "angularaxis": {
            "gridcolor": "white",
            "linecolor": "white",
            "ticks": ""
           },
           "bgcolor": "#E5ECF6",
           "radialaxis": {
            "gridcolor": "white",
            "linecolor": "white",
            "ticks": ""
           }
          },
          "scene": {
           "xaxis": {
            "backgroundcolor": "#E5ECF6",
            "gridcolor": "white",
            "gridwidth": 2,
            "linecolor": "white",
            "showbackground": true,
            "ticks": "",
            "zerolinecolor": "white"
           },
           "yaxis": {
            "backgroundcolor": "#E5ECF6",
            "gridcolor": "white",
            "gridwidth": 2,
            "linecolor": "white",
            "showbackground": true,
            "ticks": "",
            "zerolinecolor": "white"
           },
           "zaxis": {
            "backgroundcolor": "#E5ECF6",
            "gridcolor": "white",
            "gridwidth": 2,
            "linecolor": "white",
            "showbackground": true,
            "ticks": "",
            "zerolinecolor": "white"
           }
          },
          "shapedefaults": {
           "line": {
            "color": "#2a3f5f"
           }
          },
          "ternary": {
           "aaxis": {
            "gridcolor": "white",
            "linecolor": "white",
            "ticks": ""
           },
           "baxis": {
            "gridcolor": "white",
            "linecolor": "white",
            "ticks": ""
           },
           "bgcolor": "#E5ECF6",
           "caxis": {
            "gridcolor": "white",
            "linecolor": "white",
            "ticks": ""
           }
          },
          "title": {
           "x": 0.05
          },
          "xaxis": {
           "automargin": true,
           "gridcolor": "white",
           "linecolor": "white",
           "ticks": "",
           "title": {
            "standoff": 15
           },
           "zerolinecolor": "white",
           "zerolinewidth": 2
          },
          "yaxis": {
           "automargin": true,
           "gridcolor": "white",
           "linecolor": "white",
           "ticks": "",
           "title": {
            "standoff": 15
           },
           "zerolinecolor": "white",
           "zerolinewidth": 2
          }
         }
        },
        "title": {
         "text": "Original Weights Distribution (Input Channel × Output Channel × Absolute Value)"
        },
        "width": 800
       }
      }
     },
     "metadata": {},
     "output_type": "display_data"
    }
   ],
   "source": [
    "# Create 3D plots for original distributions\n",
    "print(\"Creating 3D visualizations for original distributions...\")\n",
    "\n",
    "# Plot original activations\n",
    "fig_act_orig = create_3d_distribution_plot(\n",
    "    fc1_activations, \n",
    "    \"Original Activations Distribution (Channel × Token × Absolute Value)\"\n",
    ")\n",
    "fig_act_orig.show()\n",
    "\n",
    "# Plot original weights (transpose to match channel dimension)\n",
    "fig_weight_orig = create_3d_distribution_plot(\n",
    "    fc1_weights.T,  # Transpose to get input_dim x output_dim\n",
    "    \"Original Weights Distribution (Input Channel × Output Channel × Absolute Value)\"\n",
    ")\n",
    "fig_weight_orig.show()"
   ]
  },
  {
   "cell_type": "markdown",
   "id": "4bd67b85",
   "metadata": {},
   "source": [
    "## 6. SmoothQuant Algorithm Implementation\n",
    "\n",
    "Now we implement the core SmoothQuant algorithm. The key insight is to mathematically migrate quantization difficulty from activations to weights through per-channel scaling."
   ]
  },
  {
   "cell_type": "code",
   "execution_count": 10,
   "id": "57923d9b",
   "metadata": {},
   "outputs": [
    {
     "name": "stdout",
     "output_type": "stream",
     "text": [
      "Initialized SmoothQuant with α=0.5\n"
     ]
    }
   ],
   "source": [
    "class SmoothQuant:\n",
    "    \"\"\"Implementation of SmoothQuant algorithm.\"\"\"\n",
    "    \n",
    "    def __init__(self, alpha=0.5):\n",
    "        \"\"\"\n",
    "        Initialize SmoothQuant.\n",
    "        \n",
    "        Args:\n",
    "            alpha (float): Migration strength parameter. \n",
    "                          0 = no smoothing, 1 = full migration to weights\n",
    "        \"\"\"\n",
    "        self.alpha = alpha\n",
    "        self.scaling_factors = {}\n",
    "    \n",
    "    def compute_scaling_factors(self, activations):\n",
    "        \"\"\"\n",
    "        Compute per-channel scaling factors based on activation statistics.\n",
    "        \n",
    "        Args:\n",
    "            activations (torch.Tensor): Input activations [batch, seq_len, channels]\n",
    "        \n",
    "        Returns:\n",
    "            torch.Tensor: Scaling factors for each channel\n",
    "        \"\"\"\n",
    "        # Reshape to [batch*seq_len, channels]\n",
    "        if len(activations.shape) == 3:\n",
    "            activations = activations.reshape(-1, activations.shape[-1])\n",
    "        \n",
    "        # Compute per-channel maximum absolute values\n",
    "        channel_max = torch.max(torch.abs(activations), dim=0)[0]\n",
    "        \n",
    "        # Compute scaling factors: s_j = (max|x_j|)^α\n",
    "        scaling_factors = torch.pow(channel_max, self.alpha)\n",
    "        \n",
    "        # Avoid division by zero\n",
    "        scaling_factors = torch.clamp(scaling_factors, min=1e-8)\n",
    "        \n",
    "        return scaling_factors\n",
    "    \n",
    "    def apply_smoothing(self, activations, weights, layer_name=None):\n",
    "        \"\"\"\n",
    "        Apply SmoothQuant transformation to activations and weights.\n",
    "        \n",
    "        For linear layer Y = XW^T:\n",
    "        - Scale activations: X' = X * diag(s^{-1})\n",
    "        - Scale weights: W' = W * diag(s)\n",
    "        \n",
    "        Args:\n",
    "            activations (torch.Tensor): Input activations\n",
    "            weights (torch.Tensor): Layer weights\n",
    "            layer_name (str): Optional layer name for tracking\n",
    "        \n",
    "        Returns:\n",
    "            tuple: (smoothed_activations, smoothed_weights, scaling_factors)\n",
    "        \"\"\"\n",
    "        # Compute scaling factors\n",
    "        scaling_factors = self.compute_scaling_factors(activations)\n",
    "        \n",
    "        # Store scaling factors\n",
    "        if layer_name:\n",
    "            self.scaling_factors[layer_name] = scaling_factors\n",
    "        \n",
    "        # Apply scaling to activations (divide by scaling factors)\n",
    "        # Reshape activations if needed\n",
    "        original_shape = activations.shape\n",
    "        if len(original_shape) == 3:\n",
    "            activations_2d = activations.reshape(-1, original_shape[-1])\n",
    "        else:\n",
    "            activations_2d = activations\n",
    "        \n",
    "        smoothed_activations_2d = activations_2d / scaling_factors.unsqueeze(0)\n",
    "        \n",
    "        # Reshape back to original shape\n",
    "        if len(original_shape) == 3:\n",
    "            smoothed_activations = smoothed_activations_2d.reshape(original_shape)\n",
    "        else:\n",
    "            smoothed_activations = smoothed_activations_2d\n",
    "        \n",
    "        # Apply scaling to weights (multiply by scaling factors)\n",
    "        # For linear layer, weights are [out_features, in_features]\n",
    "        # We scale along the input dimension (last dimension)\n",
    "        smoothed_weights = weights * scaling_factors.unsqueeze(0)\n",
    "        \n",
    "        return smoothed_activations, smoothed_weights, scaling_factors\n",
    "    \n",
    "    def get_migration_statistics(self, original_activations, original_weights, \n",
    "                               smoothed_activations, smoothed_weights):\n",
    "        \"\"\"\n",
    "        Compute statistics showing the effect of smoothing.\n",
    "        \"\"\"\n",
    "        stats = {}\n",
    "        \n",
    "        # Activation statistics\n",
    "        orig_act_max = torch.max(torch.abs(original_activations.flatten()))\n",
    "        smooth_act_max = torch.max(torch.abs(smoothed_activations.flatten()))\n",
    "        \n",
    "        # Weight statistics\n",
    "        orig_weight_max = torch.max(torch.abs(original_weights.flatten()))\n",
    "        smooth_weight_max = torch.max(torch.abs(smoothed_weights.flatten()))\n",
    "        \n",
    "        stats['activation_max_reduction'] = orig_act_max / smooth_act_max\n",
    "        stats['weight_max_increase'] = smooth_weight_max / orig_weight_max\n",
    "        stats['original_act_max'] = float(orig_act_max)\n",
    "        stats['smoothed_act_max'] = float(smooth_act_max)\n",
    "        stats['original_weight_max'] = float(orig_weight_max)\n",
    "        stats['smoothed_weight_max'] = float(smooth_weight_max)\n",
    "        \n",
    "        return stats\n",
    "\n",
    "# Initialize SmoothQuant with α=0.5 (balanced smoothing)\n",
    "smooth_quant = SmoothQuant(alpha=0.5)\n",
    "print(f\"Initialized SmoothQuant with α={smooth_quant.alpha}\")"
   ]
  },
  {
   "cell_type": "markdown",
   "id": "a24284dc",
   "metadata": {},
   "source": [
    "## 7. Apply SmoothQuant Transformation\n",
    "\n",
    "We now apply the SmoothQuant transformation to our representative layer and analyze the results."
   ]
  },
  {
   "cell_type": "code",
   "execution_count": 11,
   "id": "6ddf4288",
   "metadata": {},
   "outputs": [
    {
     "name": "stdout",
     "output_type": "stream",
     "text": [
      "Applying SmoothQuant to layer: model.decoder.layers.0.fc1\n",
      "Original activations shape: torch.Size([4096, 768])\n",
      "Smoothed activations shape: torch.Size([4096, 768])\n",
      "Original weights shape: torch.Size([3072, 768])\n",
      "Smoothed weights shape: torch.Size([3072, 768])\n",
      "Scaling factors shape: torch.Size([768])\n",
      "Original activations shape: torch.Size([4096, 768])\n",
      "Smoothed activations shape: torch.Size([4096, 768])\n",
      "Original weights shape: torch.Size([3072, 768])\n",
      "Smoothed weights shape: torch.Size([3072, 768])\n",
      "Scaling factors shape: torch.Size([768])\n",
      "\n",
      "SmoothQuant Migration Results:\n",
      "  Activation max reduction: 1.694x\n",
      "  Weight max increase: 0.727x\n",
      "  Original activation max: 2.868430\n",
      "  Smoothed activation max: 1.693644\n",
      "  Original weight max: 0.997559\n",
      "  Smoothed weight max: 0.724935\n",
      "\n",
      "SmoothQuant Migration Results:\n",
      "  Activation max reduction: 1.694x\n",
      "  Weight max increase: 0.727x\n",
      "  Original activation max: 2.868430\n",
      "  Smoothed activation max: 1.693644\n",
      "  Original weight max: 0.997559\n",
      "  Smoothed weight max: 0.724935\n"
     ]
    }
   ],
   "source": [
    "# Apply SmoothQuant to the representative layer\n",
    "print(f\"Applying SmoothQuant to layer: {fc1_layer_name}\")\n",
    "\n",
    "# Apply smoothing\n",
    "smoothed_activations, smoothed_weights, scaling_factors = smooth_quant.apply_smoothing(\n",
    "    fc1_activations, \n",
    "    fc1_weights, \n",
    "    layer_name=fc1_layer_name\n",
    ")\n",
    "\n",
    "print(f\"Original activations shape: {fc1_activations.shape}\")\n",
    "print(f\"Smoothed activations shape: {smoothed_activations.shape}\")\n",
    "print(f\"Original weights shape: {fc1_weights.shape}\")\n",
    "print(f\"Smoothed weights shape: {smoothed_weights.shape}\")\n",
    "print(f\"Scaling factors shape: {scaling_factors.shape}\")\n",
    "\n",
    "# Get migration statistics\n",
    "migration_stats = smooth_quant.get_migration_statistics(\n",
    "    fc1_activations, fc1_weights, \n",
    "    smoothed_activations, smoothed_weights\n",
    ")\n",
    "\n",
    "print(\"\\nSmoothQuant Migration Results:\")\n",
    "print(f\"  Activation max reduction: {migration_stats['activation_max_reduction']:.3f}x\")\n",
    "print(f\"  Weight max increase: {migration_stats['weight_max_increase']:.3f}x\")\n",
    "print(f\"  Original activation max: {migration_stats['original_act_max']:.6f}\")\n",
    "print(f\"  Smoothed activation max: {migration_stats['smoothed_act_max']:.6f}\")\n",
    "print(f\"  Original weight max: {migration_stats['original_weight_max']:.6f}\")\n",
    "print(f\"  Smoothed weight max: {migration_stats['smoothed_weight_max']:.6f}\")"
   ]
  },
  {
   "cell_type": "markdown",
   "id": "d14698ef",
   "metadata": {},
   "source": [
    "## 8. Post-SmoothQuant Visualization\n",
    "\n",
    "We create visualizations of the smoothed distributions to compare with the original ones."
   ]
  },
  {
   "cell_type": "code",
   "execution_count": 12,
   "id": "cbf91c9e",
   "metadata": {},
   "outputs": [
    {
     "name": "stdout",
     "output_type": "stream",
     "text": [
      "Analyzing smoothed distributions...\n",
      "\n",
      "Smoothed Activations - model.decoder.layers.0.fc1 Distribution Statistics:\n",
      "  Mean: 0.030951\n",
      "  Std:  0.199620\n",
      "  Range: [-1.354986, 1.693644]\n",
      "  95th percentile: 0.365623\n",
      "  99th percentile: 0.539452\n",
      "  Absolute max: 1.693644\n",
      "\n",
      "Smoothed Activations - model.decoder.layers.0.fc1 Distribution Statistics:\n",
      "  Mean: 0.030951\n",
      "  Std:  0.199620\n",
      "  Range: [-1.354986, 1.693644]\n",
      "  95th percentile: 0.365623\n",
      "  99th percentile: 0.539452\n",
      "  Absolute max: 1.693644\n",
      "\n",
      "Smoothed Weights - model.decoder.layers.0.fc1 Distribution Statistics:\n",
      "  Mean: -0.002226\n",
      "  Std:  0.020294\n",
      "  Range: [-0.698862, 0.724935]\n",
      "  95th percentile: 0.025834\n",
      "  99th percentile: 0.038937\n",
      "  Absolute max: 0.724935\n",
      "\n",
      "Smoothed Weights - model.decoder.layers.0.fc1 Distribution Statistics:\n",
      "  Mean: -0.002226\n",
      "  Std:  0.020294\n",
      "  Range: [-0.698862, 0.724935]\n",
      "  95th percentile: 0.025834\n",
      "  99th percentile: 0.038937\n",
      "  Absolute max: 0.724935\n"
     ]
    }
   ],
   "source": [
    "# Analyze smoothed distributions\n",
    "print(\"Analyzing smoothed distributions...\")\n",
    "\n",
    "smoothed_activation_stats = analyze_distribution_stats(\n",
    "    smoothed_activations, \n",
    "    f\"Smoothed Activations - {fc1_layer_name}\"\n",
    ")\n",
    "\n",
    "smoothed_weight_stats = analyze_distribution_stats(\n",
    "    smoothed_weights, \n",
    "    f\"Smoothed Weights - {fc1_layer_name}\"\n",
    ")"
   ]
  },
  {
   "cell_type": "code",
   "execution_count": 13,
   "id": "2a405886",
   "metadata": {},
   "outputs": [
    {
     "name": "stdout",
     "output_type": "stream",
     "text": [
      "Creating 3D visualizations for smoothed distributions...\n"
     ]
    },
    {
     "data": {
      "application/vnd.plotly.v1+json": {
       "config": {
        "plotlyServerURL": "https://plot.ly"
       },
       "data": [
        {
         "colorbar": {
          "title": {
           "text": "Absolute Value"
          }
         },
         "colorscale": [
          [
           0,
           "#440154"
          ],
          [
           0.1111111111111111,
           "#482878"
          ],
          [
           0.2222222222222222,
           "#3e4989"
          ],
          [
           0.3333333333333333,
           "#31688e"
          ],
          [
           0.4444444444444444,
           "#26828e"
          ],
          [
           0.5555555555555556,
           "#1f9e89"
          ],
          [
           0.6666666666666666,
           "#35b779"
          ],
          [
           0.7777777777777778,
           "#6ece58"
          ],
          [
           0.8888888888888888,
           "#b5de2b"
          ],
          [
           1,
           "#fde725"
          ]
         ],
         "type": "surface",
         "x": {
          "bdata": "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",
          "dtype": "i1",
          "shape": "128, 64"
         },
         "y": {
          "bdata": "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",
          "dtype": "i1",
          "shape": "128, 64"
         },
         "z": {
          "bdata": "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",
          "dtype": "f4",
          "shape": "128, 64"
         }
        }
       ],
       "layout": {
        "height": 600,
        "scene": {
         "xaxis": {
          "title": {
           "text": "Channel Index"
          }
         },
         "yaxis": {
          "title": {
           "text": "Token Index"
          }
         },
         "zaxis": {
          "title": {
           "text": "Absolute Value"
          }
         }
        },
        "template": {
         "data": {
          "bar": [
           {
            "error_x": {
             "color": "#2a3f5f"
            },
            "error_y": {
             "color": "#2a3f5f"
            },
            "marker": {
             "line": {
              "color": "#E5ECF6",
              "width": 0.5
             },
             "pattern": {
              "fillmode": "overlay",
              "size": 10,
              "solidity": 0.2
             }
            },
            "type": "bar"
           }
          ],
          "barpolar": [
           {
            "marker": {
             "line": {
              "color": "#E5ECF6",
              "width": 0.5
             },
             "pattern": {
              "fillmode": "overlay",
              "size": 10,
              "solidity": 0.2
             }
            },
            "type": "barpolar"
           }
          ],
          "carpet": [
           {
            "aaxis": {
             "endlinecolor": "#2a3f5f",
             "gridcolor": "white",
             "linecolor": "white",
             "minorgridcolor": "white",
             "startlinecolor": "#2a3f5f"
            },
            "baxis": {
             "endlinecolor": "#2a3f5f",
             "gridcolor": "white",
             "linecolor": "white",
             "minorgridcolor": "white",
             "startlinecolor": "#2a3f5f"
            },
            "type": "carpet"
           }
          ],
          "choropleth": [
           {
            "colorbar": {
             "outlinewidth": 0,
             "ticks": ""
            },
            "type": "choropleth"
           }
          ],
          "contour": [
           {
            "colorbar": {
             "outlinewidth": 0,
             "ticks": ""
            },
            "colorscale": [
             [
              0,
              "#0d0887"
             ],
             [
              0.1111111111111111,
              "#46039f"
             ],
             [
              0.2222222222222222,
              "#7201a8"
             ],
             [
              0.3333333333333333,
              "#9c179e"
             ],
             [
              0.4444444444444444,
              "#bd3786"
             ],
             [
              0.5555555555555556,
              "#d8576b"
             ],
             [
              0.6666666666666666,
              "#ed7953"
             ],
             [
              0.7777777777777778,
              "#fb9f3a"
             ],
             [
              0.8888888888888888,
              "#fdca26"
             ],
             [
              1,
              "#f0f921"
             ]
            ],
            "type": "contour"
           }
          ],
          "contourcarpet": [
           {
            "colorbar": {
             "outlinewidth": 0,
             "ticks": ""
            },
            "type": "contourcarpet"
           }
          ],
          "heatmap": [
           {
            "colorbar": {
             "outlinewidth": 0,
             "ticks": ""
            },
            "colorscale": [
             [
              0,
              "#0d0887"
             ],
             [
              0.1111111111111111,
              "#46039f"
             ],
             [
              0.2222222222222222,
              "#7201a8"
             ],
             [
              0.3333333333333333,
              "#9c179e"
             ],
             [
              0.4444444444444444,
              "#bd3786"
             ],
             [
              0.5555555555555556,
              "#d8576b"
             ],
             [
              0.6666666666666666,
              "#ed7953"
             ],
             [
              0.7777777777777778,
              "#fb9f3a"
             ],
             [
              0.8888888888888888,
              "#fdca26"
             ],
             [
              1,
              "#f0f921"
             ]
            ],
            "type": "heatmap"
           }
          ],
          "histogram": [
           {
            "marker": {
             "pattern": {
              "fillmode": "overlay",
              "size": 10,
              "solidity": 0.2
             }
            },
            "type": "histogram"
           }
          ],
          "histogram2d": [
           {
            "colorbar": {
             "outlinewidth": 0,
             "ticks": ""
            },
            "colorscale": [
             [
              0,
              "#0d0887"
             ],
             [
              0.1111111111111111,
              "#46039f"
             ],
             [
              0.2222222222222222,
              "#7201a8"
             ],
             [
              0.3333333333333333,
              "#9c179e"
             ],
             [
              0.4444444444444444,
              "#bd3786"
             ],
             [
              0.5555555555555556,
              "#d8576b"
             ],
             [
              0.6666666666666666,
              "#ed7953"
             ],
             [
              0.7777777777777778,
              "#fb9f3a"
             ],
             [
              0.8888888888888888,
              "#fdca26"
             ],
             [
              1,
              "#f0f921"
             ]
            ],
            "type": "histogram2d"
           }
          ],
          "histogram2dcontour": [
           {
            "colorbar": {
             "outlinewidth": 0,
             "ticks": ""
            },
            "colorscale": [
             [
              0,
              "#0d0887"
             ],
             [
              0.1111111111111111,
              "#46039f"
             ],
             [
              0.2222222222222222,
              "#7201a8"
             ],
             [
              0.3333333333333333,
              "#9c179e"
             ],
             [
              0.4444444444444444,
              "#bd3786"
             ],
             [
              0.5555555555555556,
              "#d8576b"
             ],
             [
              0.6666666666666666,
              "#ed7953"
             ],
             [
              0.7777777777777778,
              "#fb9f3a"
             ],
             [
              0.8888888888888888,
              "#fdca26"
             ],
             [
              1,
              "#f0f921"
             ]
            ],
            "type": "histogram2dcontour"
           }
          ],
          "mesh3d": [
           {
            "colorbar": {
             "outlinewidth": 0,
             "ticks": ""
            },
            "type": "mesh3d"
           }
          ],
          "parcoords": [
           {
            "line": {
             "colorbar": {
              "outlinewidth": 0,
              "ticks": ""
             }
            },
            "type": "parcoords"
           }
          ],
          "pie": [
           {
            "automargin": true,
            "type": "pie"
           }
          ],
          "scatter": [
           {
            "fillpattern": {
             "fillmode": "overlay",
             "size": 10,
             "solidity": 0.2
            },
            "type": "scatter"
           }
          ],
          "scatter3d": [
           {
            "line": {
             "colorbar": {
              "outlinewidth": 0,
              "ticks": ""
             }
            },
            "marker": {
             "colorbar": {
              "outlinewidth": 0,
              "ticks": ""
             }
            },
            "type": "scatter3d"
           }
          ],
          "scattercarpet": [
           {
            "marker": {
             "colorbar": {
              "outlinewidth": 0,
              "ticks": ""
             }
            },
            "type": "scattercarpet"
           }
          ],
          "scattergeo": [
           {
            "marker": {
             "colorbar": {
              "outlinewidth": 0,
              "ticks": ""
             }
            },
            "type": "scattergeo"
           }
          ],
          "scattergl": [
           {
            "marker": {
             "colorbar": {
              "outlinewidth": 0,
              "ticks": ""
             }
            },
            "type": "scattergl"
           }
          ],
          "scattermap": [
           {
            "marker": {
             "colorbar": {
              "outlinewidth": 0,
              "ticks": ""
             }
            },
            "type": "scattermap"
           }
          ],
          "scattermapbox": [
           {
            "marker": {
             "colorbar": {
              "outlinewidth": 0,
              "ticks": ""
             }
            },
            "type": "scattermapbox"
           }
          ],
          "scatterpolar": [
           {
            "marker": {
             "colorbar": {
              "outlinewidth": 0,
              "ticks": ""
             }
            },
            "type": "scatterpolar"
           }
          ],
          "scatterpolargl": [
           {
            "marker": {
             "colorbar": {
              "outlinewidth": 0,
              "ticks": ""
             }
            },
            "type": "scatterpolargl"
           }
          ],
          "scatterternary": [
           {
            "marker": {
             "colorbar": {
              "outlinewidth": 0,
              "ticks": ""
             }
            },
            "type": "scatterternary"
           }
          ],
          "surface": [
           {
            "colorbar": {
             "outlinewidth": 0,
             "ticks": ""
            },
            "colorscale": [
             [
              0,
              "#0d0887"
             ],
             [
              0.1111111111111111,
              "#46039f"
             ],
             [
              0.2222222222222222,
              "#7201a8"
             ],
             [
              0.3333333333333333,
              "#9c179e"
             ],
             [
              0.4444444444444444,
              "#bd3786"
             ],
             [
              0.5555555555555556,
              "#d8576b"
             ],
             [
              0.6666666666666666,
              "#ed7953"
             ],
             [
              0.7777777777777778,
              "#fb9f3a"
             ],
             [
              0.8888888888888888,
              "#fdca26"
             ],
             [
              1,
              "#f0f921"
             ]
            ],
            "type": "surface"
           }
          ],
          "table": [
           {
            "cells": {
             "fill": {
              "color": "#EBF0F8"
             },
             "line": {
              "color": "white"
             }
            },
            "header": {
             "fill": {
              "color": "#C8D4E3"
             },
             "line": {
              "color": "white"
             }
            },
            "type": "table"
           }
          ]
         },
         "layout": {
          "annotationdefaults": {
           "arrowcolor": "#2a3f5f",
           "arrowhead": 0,
           "arrowwidth": 1
          },
          "autotypenumbers": "strict",
          "coloraxis": {
           "colorbar": {
            "outlinewidth": 0,
            "ticks": ""
           }
          },
          "colorscale": {
           "diverging": [
            [
             0,
             "#8e0152"
            ],
            [
             0.1,
             "#c51b7d"
            ],
            [
             0.2,
             "#de77ae"
            ],
            [
             0.3,
             "#f1b6da"
            ],
            [
             0.4,
             "#fde0ef"
            ],
            [
             0.5,
             "#f7f7f7"
            ],
            [
             0.6,
             "#e6f5d0"
            ],
            [
             0.7,
             "#b8e186"
            ],
            [
             0.8,
             "#7fbc41"
            ],
            [
             0.9,
             "#4d9221"
            ],
            [
             1,
             "#276419"
            ]
           ],
           "sequential": [
            [
             0,
             "#0d0887"
            ],
            [
             0.1111111111111111,
             "#46039f"
            ],
            [
             0.2222222222222222,
             "#7201a8"
            ],
            [
             0.3333333333333333,
             "#9c179e"
            ],
            [
             0.4444444444444444,
             "#bd3786"
            ],
            [
             0.5555555555555556,
             "#d8576b"
            ],
            [
             0.6666666666666666,
             "#ed7953"
            ],
            [
             0.7777777777777778,
             "#fb9f3a"
            ],
            [
             0.8888888888888888,
             "#fdca26"
            ],
            [
             1,
             "#f0f921"
            ]
           ],
           "sequentialminus": [
            [
             0,
             "#0d0887"
            ],
            [
             0.1111111111111111,
             "#46039f"
            ],
            [
             0.2222222222222222,
             "#7201a8"
            ],
            [
             0.3333333333333333,
             "#9c179e"
            ],
            [
             0.4444444444444444,
             "#bd3786"
            ],
            [
             0.5555555555555556,
             "#d8576b"
            ],
            [
             0.6666666666666666,
             "#ed7953"
            ],
            [
             0.7777777777777778,
             "#fb9f3a"
            ],
            [
             0.8888888888888888,
             "#fdca26"
            ],
            [
             1,
             "#f0f921"
            ]
           ]
          },
          "colorway": [
           "#636efa",
           "#EF553B",
           "#00cc96",
           "#ab63fa",
           "#FFA15A",
           "#19d3f3",
           "#FF6692",
           "#B6E880",
           "#FF97FF",
           "#FECB52"
          ],
          "font": {
           "color": "#2a3f5f"
          },
          "geo": {
           "bgcolor": "white",
           "lakecolor": "white",
           "landcolor": "#E5ECF6",
           "showlakes": true,
           "showland": true,
           "subunitcolor": "white"
          },
          "hoverlabel": {
           "align": "left"
          },
          "hovermode": "closest",
          "mapbox": {
           "style": "light"
          },
          "paper_bgcolor": "white",
          "plot_bgcolor": "#E5ECF6",
          "polar": {
           "angularaxis": {
            "gridcolor": "white",
            "linecolor": "white",
            "ticks": ""
           },
           "bgcolor": "#E5ECF6",
           "radialaxis": {
            "gridcolor": "white",
            "linecolor": "white",
            "ticks": ""
           }
          },
          "scene": {
           "xaxis": {
            "backgroundcolor": "#E5ECF6",
            "gridcolor": "white",
            "gridwidth": 2,
            "linecolor": "white",
            "showbackground": true,
            "ticks": "",
            "zerolinecolor": "white"
           },
           "yaxis": {
            "backgroundcolor": "#E5ECF6",
            "gridcolor": "white",
            "gridwidth": 2,
            "linecolor": "white",
            "showbackground": true,
            "ticks": "",
            "zerolinecolor": "white"
           },
           "zaxis": {
            "backgroundcolor": "#E5ECF6",
            "gridcolor": "white",
            "gridwidth": 2,
            "linecolor": "white",
            "showbackground": true,
            "ticks": "",
            "zerolinecolor": "white"
           }
          },
          "shapedefaults": {
           "line": {
            "color": "#2a3f5f"
           }
          },
          "ternary": {
           "aaxis": {
            "gridcolor": "white",
            "linecolor": "white",
            "ticks": ""
           },
           "baxis": {
            "gridcolor": "white",
            "linecolor": "white",
            "ticks": ""
           },
           "bgcolor": "#E5ECF6",
           "caxis": {
            "gridcolor": "white",
            "linecolor": "white",
            "ticks": ""
           }
          },
          "title": {
           "x": 0.05
          },
          "xaxis": {
           "automargin": true,
           "gridcolor": "white",
           "linecolor": "white",
           "ticks": "",
           "title": {
            "standoff": 15
           },
           "zerolinecolor": "white",
           "zerolinewidth": 2
          },
          "yaxis": {
           "automargin": true,
           "gridcolor": "white",
           "linecolor": "white",
           "ticks": "",
           "title": {
            "standoff": 15
           },
           "zerolinecolor": "white",
           "zerolinewidth": 2
          }
         }
        },
        "title": {
         "text": "Smoothed Activations Distribution (Channel × Token × Absolute Value)"
        },
        "width": 800
       }
      }
     },
     "metadata": {},
     "output_type": "display_data"
    },
    {
     "data": {
      "application/vnd.plotly.v1+json": {
       "config": {
        "plotlyServerURL": "https://plot.ly"
       },
       "data": [
        {
         "colorbar": {
          "title": {
           "text": "Absolute Value"
          }
         },
         "colorscale": [
          [
           0,
           "#440154"
          ],
          [
           0.1111111111111111,
           "#482878"
          ],
          [
           0.2222222222222222,
           "#3e4989"
          ],
          [
           0.3333333333333333,
           "#31688e"
          ],
          [
           0.4444444444444444,
           "#26828e"
          ],
          [
           0.5555555555555556,
           "#1f9e89"
          ],
          [
           0.6666666666666666,
           "#35b779"
          ],
          [
           0.7777777777777778,
           "#6ece58"
          ],
          [
           0.8888888888888888,
           "#b5de2b"
          ],
          [
           1,
           "#fde725"
          ]
         ],
         "type": "surface",
         "x": {
          "bdata": "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",
          "dtype": "i1",
          "shape": "128, 64"
         },
         "y": {
          "bdata": "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",
          "dtype": "i1",
          "shape": "128, 64"
         },
         "z": {
          "bdata": "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",
          "dtype": "f4",
          "shape": "128, 64"
         }
        }
       ],
       "layout": {
        "height": 600,
        "scene": {
         "xaxis": {
          "title": {
           "text": "Channel Index"
          }
         },
         "yaxis": {
          "title": {
           "text": "Token Index"
          }
         },
         "zaxis": {
          "title": {
           "text": "Absolute Value"
          }
         }
        },
        "template": {
         "data": {
          "bar": [
           {
            "error_x": {
             "color": "#2a3f5f"
            },
            "error_y": {
             "color": "#2a3f5f"
            },
            "marker": {
             "line": {
              "color": "#E5ECF6",
              "width": 0.5
             },
             "pattern": {
              "fillmode": "overlay",
              "size": 10,
              "solidity": 0.2
             }
            },
            "type": "bar"
           }
          ],
          "barpolar": [
           {
            "marker": {
             "line": {
              "color": "#E5ECF6",
              "width": 0.5
             },
             "pattern": {
              "fillmode": "overlay",
              "size": 10,
              "solidity": 0.2
             }
            },
            "type": "barpolar"
           }
          ],
          "carpet": [
           {
            "aaxis": {
             "endlinecolor": "#2a3f5f",
             "gridcolor": "white",
             "linecolor": "white",
             "minorgridcolor": "white",
             "startlinecolor": "#2a3f5f"
            },
            "baxis": {
             "endlinecolor": "#2a3f5f",
             "gridcolor": "white",
             "linecolor": "white",
             "minorgridcolor": "white",
             "startlinecolor": "#2a3f5f"
            },
            "type": "carpet"
           }
          ],
          "choropleth": [
           {
            "colorbar": {
             "outlinewidth": 0,
             "ticks": ""
            },
            "type": "choropleth"
           }
          ],
          "contour": [
           {
            "colorbar": {
             "outlinewidth": 0,
             "ticks": ""
            },
            "colorscale": [
             [
              0,
              "#0d0887"
             ],
             [
              0.1111111111111111,
              "#46039f"
             ],
             [
              0.2222222222222222,
              "#7201a8"
             ],
             [
              0.3333333333333333,
              "#9c179e"
             ],
             [
              0.4444444444444444,
              "#bd3786"
             ],
             [
              0.5555555555555556,
              "#d8576b"
             ],
             [
              0.6666666666666666,
              "#ed7953"
             ],
             [
              0.7777777777777778,
              "#fb9f3a"
             ],
             [
              0.8888888888888888,
              "#fdca26"
             ],
             [
              1,
              "#f0f921"
             ]
            ],
            "type": "contour"
           }
          ],
          "contourcarpet": [
           {
            "colorbar": {
             "outlinewidth": 0,
             "ticks": ""
            },
            "type": "contourcarpet"
           }
          ],
          "heatmap": [
           {
            "colorbar": {
             "outlinewidth": 0,
             "ticks": ""
            },
            "colorscale": [
             [
              0,
              "#0d0887"
             ],
             [
              0.1111111111111111,
              "#46039f"
             ],
             [
              0.2222222222222222,
              "#7201a8"
             ],
             [
              0.3333333333333333,
              "#9c179e"
             ],
             [
              0.4444444444444444,
              "#bd3786"
             ],
             [
              0.5555555555555556,
              "#d8576b"
             ],
             [
              0.6666666666666666,
              "#ed7953"
             ],
             [
              0.7777777777777778,
              "#fb9f3a"
             ],
             [
              0.8888888888888888,
              "#fdca26"
             ],
             [
              1,
              "#f0f921"
             ]
            ],
            "type": "heatmap"
           }
          ],
          "histogram": [
           {
            "marker": {
             "pattern": {
              "fillmode": "overlay",
              "size": 10,
              "solidity": 0.2
             }
            },
            "type": "histogram"
           }
          ],
          "histogram2d": [
           {
            "colorbar": {
             "outlinewidth": 0,
             "ticks": ""
            },
            "colorscale": [
             [
              0,
              "#0d0887"
             ],
             [
              0.1111111111111111,
              "#46039f"
             ],
             [
              0.2222222222222222,
              "#7201a8"
             ],
             [
              0.3333333333333333,
              "#9c179e"
             ],
             [
              0.4444444444444444,
              "#bd3786"
             ],
             [
              0.5555555555555556,
              "#d8576b"
             ],
             [
              0.6666666666666666,
              "#ed7953"
             ],
             [
              0.7777777777777778,
              "#fb9f3a"
             ],
             [
              0.8888888888888888,
              "#fdca26"
             ],
             [
              1,
              "#f0f921"
             ]
            ],
            "type": "histogram2d"
           }
          ],
          "histogram2dcontour": [
           {
            "colorbar": {
             "outlinewidth": 0,
             "ticks": ""
            },
            "colorscale": [
             [
              0,
              "#0d0887"
             ],
             [
              0.1111111111111111,
              "#46039f"
             ],
             [
              0.2222222222222222,
              "#7201a8"
             ],
             [
              0.3333333333333333,
              "#9c179e"
             ],
             [
              0.4444444444444444,
              "#bd3786"
             ],
             [
              0.5555555555555556,
              "#d8576b"
             ],
             [
              0.6666666666666666,
              "#ed7953"
             ],
             [
              0.7777777777777778,
              "#fb9f3a"
             ],
             [
              0.8888888888888888,
              "#fdca26"
             ],
             [
              1,
              "#f0f921"
             ]
            ],
            "type": "histogram2dcontour"
           }
          ],
          "mesh3d": [
           {
            "colorbar": {
             "outlinewidth": 0,
             "ticks": ""
            },
            "type": "mesh3d"
           }
          ],
          "parcoords": [
           {
            "line": {
             "colorbar": {
              "outlinewidth": 0,
              "ticks": ""
             }
            },
            "type": "parcoords"
           }
          ],
          "pie": [
           {
            "automargin": true,
            "type": "pie"
           }
          ],
          "scatter": [
           {
            "fillpattern": {
             "fillmode": "overlay",
             "size": 10,
             "solidity": 0.2
            },
            "type": "scatter"
           }
          ],
          "scatter3d": [
           {
            "line": {
             "colorbar": {
              "outlinewidth": 0,
              "ticks": ""
             }
            },
            "marker": {
             "colorbar": {
              "outlinewidth": 0,
              "ticks": ""
             }
            },
            "type": "scatter3d"
           }
          ],
          "scattercarpet": [
           {
            "marker": {
             "colorbar": {
              "outlinewidth": 0,
              "ticks": ""
             }
            },
            "type": "scattercarpet"
           }
          ],
          "scattergeo": [
           {
            "marker": {
             "colorbar": {
              "outlinewidth": 0,
              "ticks": ""
             }
            },
            "type": "scattergeo"
           }
          ],
          "scattergl": [
           {
            "marker": {
             "colorbar": {
              "outlinewidth": 0,
              "ticks": ""
             }
            },
            "type": "scattergl"
           }
          ],
          "scattermap": [
           {
            "marker": {
             "colorbar": {
              "outlinewidth": 0,
              "ticks": ""
             }
            },
            "type": "scattermap"
           }
          ],
          "scattermapbox": [
           {
            "marker": {
             "colorbar": {
              "outlinewidth": 0,
              "ticks": ""
             }
            },
            "type": "scattermapbox"
           }
          ],
          "scatterpolar": [
           {
            "marker": {
             "colorbar": {
              "outlinewidth": 0,
              "ticks": ""
             }
            },
            "type": "scatterpolar"
           }
          ],
          "scatterpolargl": [
           {
            "marker": {
             "colorbar": {
              "outlinewidth": 0,
              "ticks": ""
             }
            },
            "type": "scatterpolargl"
           }
          ],
          "scatterternary": [
           {
            "marker": {
             "colorbar": {
              "outlinewidth": 0,
              "ticks": ""
             }
            },
            "type": "scatterternary"
           }
          ],
          "surface": [
           {
            "colorbar": {
             "outlinewidth": 0,
             "ticks": ""
            },
            "colorscale": [
             [
              0,
              "#0d0887"
             ],
             [
              0.1111111111111111,
              "#46039f"
             ],
             [
              0.2222222222222222,
              "#7201a8"
             ],
             [
              0.3333333333333333,
              "#9c179e"
             ],
             [
              0.4444444444444444,
              "#bd3786"
             ],
             [
              0.5555555555555556,
              "#d8576b"
             ],
             [
              0.6666666666666666,
              "#ed7953"
             ],
             [
              0.7777777777777778,
              "#fb9f3a"
             ],
             [
              0.8888888888888888,
              "#fdca26"
             ],
             [
              1,
              "#f0f921"
             ]
            ],
            "type": "surface"
           }
          ],
          "table": [
           {
            "cells": {
             "fill": {
              "color": "#EBF0F8"
             },
             "line": {
              "color": "white"
             }
            },
            "header": {
             "fill": {
              "color": "#C8D4E3"
             },
             "line": {
              "color": "white"
             }
            },
            "type": "table"
           }
          ]
         },
         "layout": {
          "annotationdefaults": {
           "arrowcolor": "#2a3f5f",
           "arrowhead": 0,
           "arrowwidth": 1
          },
          "autotypenumbers": "strict",
          "coloraxis": {
           "colorbar": {
            "outlinewidth": 0,
            "ticks": ""
           }
          },
          "colorscale": {
           "diverging": [
            [
             0,
             "#8e0152"
            ],
            [
             0.1,
             "#c51b7d"
            ],
            [
             0.2,
             "#de77ae"
            ],
            [
             0.3,
             "#f1b6da"
            ],
            [
             0.4,
             "#fde0ef"
            ],
            [
             0.5,
             "#f7f7f7"
            ],
            [
             0.6,
             "#e6f5d0"
            ],
            [
             0.7,
             "#b8e186"
            ],
            [
             0.8,
             "#7fbc41"
            ],
            [
             0.9,
             "#4d9221"
            ],
            [
             1,
             "#276419"
            ]
           ],
           "sequential": [
            [
             0,
             "#0d0887"
            ],
            [
             0.1111111111111111,
             "#46039f"
            ],
            [
             0.2222222222222222,
             "#7201a8"
            ],
            [
             0.3333333333333333,
             "#9c179e"
            ],
            [
             0.4444444444444444,
             "#bd3786"
            ],
            [
             0.5555555555555556,
             "#d8576b"
            ],
            [
             0.6666666666666666,
             "#ed7953"
            ],
            [
             0.7777777777777778,
             "#fb9f3a"
            ],
            [
             0.8888888888888888,
             "#fdca26"
            ],
            [
             1,
             "#f0f921"
            ]
           ],
           "sequentialminus": [
            [
             0,
             "#0d0887"
            ],
            [
             0.1111111111111111,
             "#46039f"
            ],
            [
             0.2222222222222222,
             "#7201a8"
            ],
            [
             0.3333333333333333,
             "#9c179e"
            ],
            [
             0.4444444444444444,
             "#bd3786"
            ],
            [
             0.5555555555555556,
             "#d8576b"
            ],
            [
             0.6666666666666666,
             "#ed7953"
            ],
            [
             0.7777777777777778,
             "#fb9f3a"
            ],
            [
             0.8888888888888888,
             "#fdca26"
            ],
            [
             1,
             "#f0f921"
            ]
           ]
          },
          "colorway": [
           "#636efa",
           "#EF553B",
           "#00cc96",
           "#ab63fa",
           "#FFA15A",
           "#19d3f3",
           "#FF6692",
           "#B6E880",
           "#FF97FF",
           "#FECB52"
          ],
          "font": {
           "color": "#2a3f5f"
          },
          "geo": {
           "bgcolor": "white",
           "lakecolor": "white",
           "landcolor": "#E5ECF6",
           "showlakes": true,
           "showland": true,
           "subunitcolor": "white"
          },
          "hoverlabel": {
           "align": "left"
          },
          "hovermode": "closest",
          "mapbox": {
           "style": "light"
          },
          "paper_bgcolor": "white",
          "plot_bgcolor": "#E5ECF6",
          "polar": {
           "angularaxis": {
            "gridcolor": "white",
            "linecolor": "white",
            "ticks": ""
           },
           "bgcolor": "#E5ECF6",
           "radialaxis": {
            "gridcolor": "white",
            "linecolor": "white",
            "ticks": ""
           }
          },
          "scene": {
           "xaxis": {
            "backgroundcolor": "#E5ECF6",
            "gridcolor": "white",
            "gridwidth": 2,
            "linecolor": "white",
            "showbackground": true,
            "ticks": "",
            "zerolinecolor": "white"
           },
           "yaxis": {
            "backgroundcolor": "#E5ECF6",
            "gridcolor": "white",
            "gridwidth": 2,
            "linecolor": "white",
            "showbackground": true,
            "ticks": "",
            "zerolinecolor": "white"
           },
           "zaxis": {
            "backgroundcolor": "#E5ECF6",
            "gridcolor": "white",
            "gridwidth": 2,
            "linecolor": "white",
            "showbackground": true,
            "ticks": "",
            "zerolinecolor": "white"
           }
          },
          "shapedefaults": {
           "line": {
            "color": "#2a3f5f"
           }
          },
          "ternary": {
           "aaxis": {
            "gridcolor": "white",
            "linecolor": "white",
            "ticks": ""
           },
           "baxis": {
            "gridcolor": "white",
            "linecolor": "white",
            "ticks": ""
           },
           "bgcolor": "#E5ECF6",
           "caxis": {
            "gridcolor": "white",
            "linecolor": "white",
            "ticks": ""
           }
          },
          "title": {
           "x": 0.05
          },
          "xaxis": {
           "automargin": true,
           "gridcolor": "white",
           "linecolor": "white",
           "ticks": "",
           "title": {
            "standoff": 15
           },
           "zerolinecolor": "white",
           "zerolinewidth": 2
          },
          "yaxis": {
           "automargin": true,
           "gridcolor": "white",
           "linecolor": "white",
           "ticks": "",
           "title": {
            "standoff": 15
           },
           "zerolinecolor": "white",
           "zerolinewidth": 2
          }
         }
        },
        "title": {
         "text": "Smoothed Weights Distribution (Input Channel × Output Channel × Absolute Value)"
        },
        "width": 800
       }
      }
     },
     "metadata": {},
     "output_type": "display_data"
    }
   ],
   "source": [
    "# Create 3D plots for smoothed distributions\n",
    "print(\"Creating 3D visualizations for smoothed distributions...\")\n",
    "\n",
    "# Plot smoothed activations\n",
    "fig_act_smooth = create_3d_distribution_plot(\n",
    "    smoothed_activations, \n",
    "    \"Smoothed Activations Distribution (Channel × Token × Absolute Value)\"\n",
    ")\n",
    "fig_act_smooth.show()\n",
    "\n",
    "# Plot smoothed weights\n",
    "fig_weight_smooth = create_3d_distribution_plot(\n",
    "    smoothed_weights.T,\n",
    "    \"Smoothed Weights Distribution (Input Channel × Output Channel × Absolute Value)\"\n",
    ")\n",
    "fig_weight_smooth.show()"
   ]
  },
  {
   "cell_type": "markdown",
   "id": "64e12cea",
   "metadata": {},
   "source": [
    "## 9. Quantization Analysis\n",
    "\n",
    "Now we demonstrate the quantization benefits of SmoothQuant by comparing quantization errors before and after smoothing."
   ]
  },
  {
   "cell_type": "code",
   "execution_count": 14,
   "id": "e622698f",
   "metadata": {},
   "outputs": [
    {
     "name": "stdout",
     "output_type": "stream",
     "text": [
      "\n",
      "Activations Quantization Analysis (8-bit):\n",
      "  Original quantization error: 0.005671\n",
      "  Smoothed quantization error: 0.003349\n",
      "  Error reduction: 1.693x\n",
      "\n",
      "Weights Quantization Analysis (8-bit):\n",
      "  Original quantization error: 0.001964\n",
      "  Smoothed quantization error: 0.001428\n",
      "  Error reduction: 1.376x\n",
      "\n",
      "Weights Quantization Analysis (8-bit):\n",
      "  Original quantization error: 0.001964\n",
      "  Smoothed quantization error: 0.001428\n",
      "  Error reduction: 1.376x\n"
     ]
    }
   ],
   "source": [
    "def quantize_tensor(tensor, bits=8, symmetric=True):\n",
    "    \"\"\"\n",
    "    Simulate quantization of a tensor.\n",
    "    \n",
    "    Args:\n",
    "        tensor (torch.Tensor): Input tensor\n",
    "        bits (int): Number of quantization bits\n",
    "        symmetric (bool): Whether to use symmetric quantization\n",
    "    \n",
    "    Returns:\n",
    "        tuple: (quantized_tensor, quantization_error)\n",
    "    \"\"\"\n",
    "    if symmetric:\n",
    "        # Symmetric quantization\n",
    "        max_val = torch.max(torch.abs(tensor))\n",
    "        scale = max_val / (2**(bits-1) - 1)\n",
    "        quantized = torch.round(tensor / scale) * scale\n",
    "    else:\n",
    "        # Asymmetric quantization\n",
    "        min_val = torch.min(tensor)\n",
    "        max_val = torch.max(tensor)\n",
    "        scale = (max_val - min_val) / (2**bits - 1)\n",
    "        zero_point = -torch.round(min_val / scale)\n",
    "        quantized = (torch.round(tensor / scale) + zero_point - zero_point) * scale\n",
    "    \n",
    "    # Compute quantization error\n",
    "    error = torch.mean(torch.abs(tensor - quantized))\n",
    "    \n",
    "    return quantized, error\n",
    "\n",
    "def analyze_quantization_impact(original_tensor, smoothed_tensor, name, bits=8):\n",
    "    \"\"\"\n",
    "    Compare quantization impact on original vs smoothed tensors.\n",
    "    \"\"\"\n",
    "    # Quantize original tensor\n",
    "    quant_orig, error_orig = quantize_tensor(original_tensor, bits=bits)\n",
    "    \n",
    "    # Quantize smoothed tensor\n",
    "    quant_smooth, error_smooth = quantize_tensor(smoothed_tensor, bits=bits)\n",
    "    \n",
    "    # Calculate improvement\n",
    "    error_reduction = error_orig / error_smooth\n",
    "    \n",
    "    print(f\"\\n{name} Quantization Analysis ({bits}-bit):\")\n",
    "    print(f\"  Original quantization error: {float(error_orig):.6f}\")\n",
    "    print(f\"  Smoothed quantization error: {float(error_smooth):.6f}\")\n",
    "    print(f\"  Error reduction: {float(error_reduction):.3f}x\")\n",
    "    \n",
    "    return {\n",
    "        'original_error': float(error_orig),\n",
    "        'smoothed_error': float(error_smooth),\n",
    "        'error_reduction': float(error_reduction)\n",
    "    }\n",
    "\n",
    "# Analyze quantization impact\n",
    "activation_quant_results = analyze_quantization_impact(\n",
    "    fc1_activations, smoothed_activations, \"Activations\"\n",
    ")\n",
    "\n",
    "weight_quant_results = analyze_quantization_impact(\n",
    "    fc1_weights, smoothed_weights, \"Weights\"\n",
    ")"
   ]
  },
  {
   "cell_type": "markdown",
   "id": "db792b28",
   "metadata": {},
   "source": [
    "## 10. Model Performance Evaluation\n",
    "\n",
    "Finally, we evaluate the impact of SmoothQuant on model performance by comparing perplexity before and after applying the transformation."
   ]
  },
  {
   "cell_type": "code",
   "execution_count": 15,
   "id": "bb200071",
   "metadata": {},
   "outputs": [
    {
     "name": "stdout",
     "output_type": "stream",
     "text": [
      "Evaluating on 20 validation texts...\n",
      "Original model perplexity: 62.031\n",
      "Original model perplexity: 62.031\n"
     ]
    }
   ],
   "source": [
    "def evaluate_perplexity(model, tokenizer, eval_texts, max_length=256):\n",
    "    \"\"\"\n",
    "    Evaluate model perplexity on given texts.\n",
    "    \"\"\"\n",
    "    model.eval()\n",
    "    total_loss = 0\n",
    "    total_tokens = 0\n",
    "    \n",
    "    with torch.no_grad():\n",
    "        for text in eval_texts:\n",
    "            # Tokenize\n",
    "            inputs = tokenizer(\n",
    "                text, \n",
    "                return_tensors=\"pt\", \n",
    "                max_length=max_length, \n",
    "                truncation=True\n",
    "            )\n",
    "            inputs = {k: v.to(device) for k, v in inputs.items()}\n",
    "            \n",
    "            # Forward pass\n",
    "            outputs = model(**inputs, labels=inputs['input_ids'])\n",
    "            \n",
    "            # Accumulate loss\n",
    "            total_loss += outputs.loss.item() * inputs['input_ids'].numel()\n",
    "            total_tokens += inputs['input_ids'].numel()\n",
    "    \n",
    "    # Calculate perplexity\n",
    "    avg_loss = total_loss / total_tokens\n",
    "    perplexity = torch.exp(torch.tensor(avg_loss))\n",
    "    \n",
    "    return float(perplexity)\n",
    "\n",
    "# Prepare evaluation texts\n",
    "eval_dataset = load_dataset(\"wikitext\", \"wikitext-2-raw-v1\", split=\"validation\")\n",
    "eval_texts = [example['text'] for example in eval_dataset if len(example['text'].strip()) > 50][:20]\n",
    "\n",
    "print(f\"Evaluating on {len(eval_texts)} validation texts...\")\n",
    "\n",
    "# Evaluate original model\n",
    "original_perplexity = evaluate_perplexity(model, tokenizer, eval_texts)\n",
    "print(f\"Original model perplexity: {original_perplexity:.3f}\")"
   ]
  },
  {
   "cell_type": "code",
   "execution_count": 16,
   "id": "cb5c6ba4",
   "metadata": {},
   "outputs": [
    {
     "name": "stdout",
     "output_type": "stream",
     "text": [
      "SmoothQuant scaling factors computed for layers:\n",
      "  model.decoder.layers.0.fc1: torch.Size([768])\n",
      "\n",
      "SmoothQuant transformation applied successfully!\n",
      "In a full implementation, you would:\n",
      "1. Apply scaling to all linear layers\n",
      "2. Modify the model architecture to include scaling\n",
      "3. Re-evaluate perplexity with the modified model\n"
     ]
    }
   ],
   "source": [
    "# Create a modified model with SmoothQuant applied\n",
    "def apply_smoothquant_to_model(model, smooth_quant_instance):\n",
    "    \"\"\"\n",
    "    Apply SmoothQuant transformations to the entire model.\n",
    "    Note: This is a simplified version for demonstration.\n",
    "    \"\"\"\n",
    "    modified_model = model  # In practice, you'd create a copy\n",
    "    \n",
    "    # For demonstration, we'll just show that the scaling factors have been computed\n",
    "    print(\"SmoothQuant scaling factors computed for layers:\")\n",
    "    for layer_name, factors in smooth_quant_instance.scaling_factors.items():\n",
    "        print(f\"  {layer_name}: {factors.shape}\")\n",
    "    \n",
    "    return modified_model\n",
    "\n",
    "# Apply SmoothQuant (simplified for demonstration)\n",
    "smoothed_model = apply_smoothquant_to_model(model, smooth_quant)\n",
    "\n",
    "print(\"\\nSmoothQuant transformation applied successfully!\")\n",
    "print(\"In a full implementation, you would:\")\n",
    "print(\"1. Apply scaling to all linear layers\")\n",
    "print(\"2. Modify the model architecture to include scaling\")\n",
    "print(\"3. Re-evaluate perplexity with the modified model\")"
   ]
  },
  {
   "cell_type": "markdown",
   "id": "01863c70",
   "metadata": {},
   "source": [
    "## 11. Results Summary and Comparison\n",
    "\n",
    "Let's summarize our findings and create comparison visualizations."
   ]
  },
  {
   "cell_type": "code",
   "execution_count": 17,
   "id": "4b56d746",
   "metadata": {},
   "outputs": [
    {
     "data": {
      "image/png": "[encoded data removed]",
      "text/plain": [
       "<Figure size 1200x1000 with 4 Axes>"
      ]
     },
     "metadata": {},
     "output_type": "display_data"
    }
   ],
   "source": [
    "# Create summary comparison plots using matplotlib\n",
    "def create_comparison_plot_matplotlib():\n",
    "    \"\"\"Create side-by-side comparison plots using matplotlib.\"\"\"\n",
    "    import matplotlib.pyplot as plt\n",
    "    import numpy as np\n",
    "    \n",
    "    fig, axes = plt.subplots(2, 2, figsize=(12, 10))\n",
    "    fig.suptitle(\"SmoothQuant Results Summary\", fontsize=16)\n",
    "    \n",
    "    # Activation histograms\n",
    "    orig_act_flat = fc1_activations.flatten().numpy()\n",
    "    smooth_act_flat = smoothed_activations.flatten().numpy()\n",
    "    \n",
    "    axes[0, 0].hist(orig_act_flat, bins=50, alpha=0.7, label=\"Original\")\n",
    "    axes[0, 0].hist(smooth_act_flat, bins=50, alpha=0.7, label=\"Smoothed\")\n",
    "    axes[0, 0].set_title(\"Activation Distribution (Before vs After)\")\n",
    "    axes[0, 0].set_xlabel(\"Value\")\n",
    "    axes[0, 0].set_ylabel(\"Frequency\")\n",
    "    axes[0, 0].legend()\n",
    "    \n",
    "    # Weight histograms\n",
    "    orig_weight_flat = fc1_weights.flatten().numpy()\n",
    "    smooth_weight_flat = smoothed_weights.flatten().numpy()\n",
    "    \n",
    "    axes[0, 1].hist(orig_weight_flat, bins=50, alpha=0.7, label=\"Original\")\n",
    "    axes[0, 1].hist(smooth_weight_flat, bins=50, alpha=0.7, label=\"Smoothed\")\n",
    "    axes[0, 1].set_title(\"Weight Distribution (Before vs After)\")\n",
    "    axes[0, 1].set_xlabel(\"Value\")\n",
    "    axes[0, 1].set_ylabel(\"Frequency\")\n",
    "    axes[0, 1].legend()\n",
    "    \n",
    "    # Quantization error comparison\n",
    "    axes[1, 0].bar([\"Activations\", \"Weights\"], [activation_quant_results['original_error'], weight_quant_results['original_error']], alpha=0.7, label=\"Original Error\")\n",
    "    axes[1, 0].bar([\"Activations\", \"Weights\"], [activation_quant_results['smoothed_error'], weight_quant_results['smoothed_error']], alpha=0.7, label=\"Smoothed Error\")\n",
    "    axes[1, 0].set_title(\"Quantization Error Comparison\")\n",
    "    axes[1, 0].set_ylabel(\"Error\")\n",
    "    axes[1, 0].legend()\n",
    "    \n",
    "    # Migration statistics\n",
    "    axes[1, 1].bar([\"Act. Max Reduction\", \"Weight Max Increase\"], [migration_stats['activation_max_reduction'], migration_stats['weight_max_increase']], alpha=0.7, label=\"Migration Effect\")\n",
    "    axes[1, 1].set_title(\"Migration Statistics\")\n",
    "    axes[1, 1].set_ylabel(\"Effect\")\n",
    "    axes[1, 1].legend()\n",
    "    \n",
    "    plt.tight_layout(rect=[0, 0, 1, 0.95])\n",
    "    plt.show()\n",
    "    \n",
    "# Create and show comparison plot using matplotlib\n",
    "create_comparison_plot_matplotlib()"
   ]
  },
  {
   "cell_type": "code",
   "execution_count": null,
   "id": "85a3d1d2",
   "metadata": {},
   "outputs": [
    {
     "name": "stdout",
     "output_type": "stream",
     "text": [
      "\n",
      "============================================================\n",
      "SMOOTHQUANT IMPLEMENTATION SUMMARY\n",
      "============================================================\n",
      "\n",
      "📊 Model Analyzed: facebook/opt-125m\n",
      "📊 Target Layer: model.decoder.layers.0.fc1\n",
      "📊 Smoothing Parameter (α): 0.5\n",
      "\n",
      "🔄 Migration Results:\n",
      "   • Activation outliers reduced by: 1.69x\n",
      "   • Weight outliers increased by: 0.73x\n",
      "\n",
      "📉 Quantization Improvements:\n",
      "   • Activation quantization error reduced by: 1.69x\n",
      "   • Weight quantization error changed by: 1.38x\n",
      "\n",
      "🎯 Key Insights:\n",
      "   • SmoothQuant successfully migrates quantization difficulty from activations to weights\n",
      "   • Activation outliers are smoothed, making them easier to quantize\n",
      "   • The mathematical equivalence preserves model functionality\n",
      "   • 3D visualizations clearly show the distribution changes\n",
      "\n",
      "============================================================\n",
      "Workshop completed successfully! 🎉\n",
      "============================================================\n"
     ]
    }
   ],
   "source": [
    "# Print final summary\n",
    "print(\"\\n\" + \"=\"*60)\n",
    "print(\"SMOOTHQUANT IMPLEMENTATION SUMMARY\")\n",
    "print(\"=\"*60)\n",
    "\n",
    "print(f\"\\nModel Analyzed: {model_name}\")\n",
    "print(f\"Target Layer: {fc1_layer_name}\")\n",
    "print(f\"Smoothing Parameter (α): {smooth_quant.alpha}\")\n",
    "\n",
    "print(\"\\nMigration Results:\")\n",
    "print(f\"   • Activation outliers reduced by: {migration_stats['activation_max_reduction']:.2f}x\")\n",
    "print(f\"   • Weight outliers increased by: {migration_stats['weight_max_increase']:.2f}x\")\n",
    "\n",
    "print(\"\\nQuantization Improvements:\")\n",
    "print(f\"   • Activation quantization error reduced by: {activation_quant_results['error_reduction']:.2f}x\")\n",
    "print(f\"   • Weight quantization error changed by: {weight_quant_results['error_reduction']:.2f}x\")\n",
    "\n",
    "print(\"\\nKey Insights:\")\n",
    "print(\"   • SmoothQuant successfully migrates quantization difficulty from activations to weights\")\n",
    "print(\"   • Activation outliers are smoothed, making them easier to quantize\")\n",
    "print(\"   • The mathematical equivalence preserves model functionality\")\n",
    "print(\"   • 3D visualizations clearly show the distribution changes\")\n",
    "\n",
    "print(\"\\n\" + \"=\"*60)\n",
    "print(\"Workshop completed successfully! 🎉\")\n",
    "print(\"=\"*60)"
   ]
  }
 ],
 "metadata": {
  "kernelspec": {
   "display_name": ".venv",
   "language": "python",
   "name": "python3"
  },
  "language_info": {
   "codemirror_mode": {
    "name": "ipython",
    "version": 3
   },
   "file_extension": ".py",
   "mimetype": "text/x-python",
   "name": "python",
   "nbconvert_exporter": "python",
   "pygments_lexer": "ipython3",
   "version": "3.12.3"
  }
 },
 "nbformat": 4,
 "nbformat_minor": 5
}
